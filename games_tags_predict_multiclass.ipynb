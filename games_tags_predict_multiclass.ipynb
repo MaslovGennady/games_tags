{
  "nbformat": 4,
  "nbformat_minor": 0,
  "metadata": {
    "colab": {
      "provenance": []
    },
    "kernelspec": {
      "name": "python3",
      "display_name": "Python 3"
    },
    "language_info": {
      "name": "python"
    },
    "widgets": {
      "application/vnd.jupyter.widget-state+json": {
        "9da59a1e016c471bb5c22d2bf29690da": {
          "model_module": "@jupyter-widgets/controls",
          "model_name": "HBoxModel",
          "model_module_version": "1.5.0",
          "state": {
            "_dom_classes": [],
            "_model_module": "@jupyter-widgets/controls",
            "_model_module_version": "1.5.0",
            "_model_name": "HBoxModel",
            "_view_count": null,
            "_view_module": "@jupyter-widgets/controls",
            "_view_module_version": "1.5.0",
            "_view_name": "HBoxView",
            "box_style": "",
            "children": [
              "IPY_MODEL_95651140ac4f4c95a8b0d743a012b506",
              "IPY_MODEL_d26c075284a548e4ba9df8b39cd5d2ec",
              "IPY_MODEL_3d5dba4b062e4a8e8570caadaf2b0a85"
            ],
            "layout": "IPY_MODEL_de63a1edc2234eb19ab43e2169e74dde"
          }
        },
        "95651140ac4f4c95a8b0d743a012b506": {
          "model_module": "@jupyter-widgets/controls",
          "model_name": "HTMLModel",
          "model_module_version": "1.5.0",
          "state": {
            "_dom_classes": [],
            "_model_module": "@jupyter-widgets/controls",
            "_model_module_version": "1.5.0",
            "_model_name": "HTMLModel",
            "_view_count": null,
            "_view_module": "@jupyter-widgets/controls",
            "_view_module_version": "1.5.0",
            "_view_name": "HTMLView",
            "description": "",
            "description_tooltip": null,
            "layout": "IPY_MODEL_e8cc255c1f8d48d5aceddd80e21239df",
            "placeholder": "​",
            "style": "IPY_MODEL_1cecc30f605646d585cf43563242784e",
            "value": "100%"
          }
        },
        "d26c075284a548e4ba9df8b39cd5d2ec": {
          "model_module": "@jupyter-widgets/controls",
          "model_name": "FloatProgressModel",
          "model_module_version": "1.5.0",
          "state": {
            "_dom_classes": [],
            "_model_module": "@jupyter-widgets/controls",
            "_model_module_version": "1.5.0",
            "_model_name": "FloatProgressModel",
            "_view_count": null,
            "_view_module": "@jupyter-widgets/controls",
            "_view_module_version": "1.5.0",
            "_view_name": "ProgressView",
            "bar_style": "success",
            "description": "",
            "description_tooltip": null,
            "layout": "IPY_MODEL_f575d5992349414c8a87e6546a7510ef",
            "max": 30805,
            "min": 0,
            "orientation": "horizontal",
            "style": "IPY_MODEL_959151783b8c4cf189f3ef0ea137f226",
            "value": 30805
          }
        },
        "3d5dba4b062e4a8e8570caadaf2b0a85": {
          "model_module": "@jupyter-widgets/controls",
          "model_name": "HTMLModel",
          "model_module_version": "1.5.0",
          "state": {
            "_dom_classes": [],
            "_model_module": "@jupyter-widgets/controls",
            "_model_module_version": "1.5.0",
            "_model_name": "HTMLModel",
            "_view_count": null,
            "_view_module": "@jupyter-widgets/controls",
            "_view_module_version": "1.5.0",
            "_view_name": "HTMLView",
            "description": "",
            "description_tooltip": null,
            "layout": "IPY_MODEL_f6f737fa75034c869d9adc0e13e54a35",
            "placeholder": "​",
            "style": "IPY_MODEL_36c594cebbcc46ec9dad662e43b17b0c",
            "value": " 30805/30805 [07:17&lt;00:00, 47.12it/s]"
          }
        },
        "de63a1edc2234eb19ab43e2169e74dde": {
          "model_module": "@jupyter-widgets/base",
          "model_name": "LayoutModel",
          "model_module_version": "1.2.0",
          "state": {
            "_model_module": "@jupyter-widgets/base",
            "_model_module_version": "1.2.0",
            "_model_name": "LayoutModel",
            "_view_count": null,
            "_view_module": "@jupyter-widgets/base",
            "_view_module_version": "1.2.0",
            "_view_name": "LayoutView",
            "align_content": null,
            "align_items": null,
            "align_self": null,
            "border": null,
            "bottom": null,
            "display": null,
            "flex": null,
            "flex_flow": null,
            "grid_area": null,
            "grid_auto_columns": null,
            "grid_auto_flow": null,
            "grid_auto_rows": null,
            "grid_column": null,
            "grid_gap": null,
            "grid_row": null,
            "grid_template_areas": null,
            "grid_template_columns": null,
            "grid_template_rows": null,
            "height": null,
            "justify_content": null,
            "justify_items": null,
            "left": null,
            "margin": null,
            "max_height": null,
            "max_width": null,
            "min_height": null,
            "min_width": null,
            "object_fit": null,
            "object_position": null,
            "order": null,
            "overflow": null,
            "overflow_x": null,
            "overflow_y": null,
            "padding": null,
            "right": null,
            "top": null,
            "visibility": null,
            "width": null
          }
        },
        "e8cc255c1f8d48d5aceddd80e21239df": {
          "model_module": "@jupyter-widgets/base",
          "model_name": "LayoutModel",
          "model_module_version": "1.2.0",
          "state": {
            "_model_module": "@jupyter-widgets/base",
            "_model_module_version": "1.2.0",
            "_model_name": "LayoutModel",
            "_view_count": null,
            "_view_module": "@jupyter-widgets/base",
            "_view_module_version": "1.2.0",
            "_view_name": "LayoutView",
            "align_content": null,
            "align_items": null,
            "align_self": null,
            "border": null,
            "bottom": null,
            "display": null,
            "flex": null,
            "flex_flow": null,
            "grid_area": null,
            "grid_auto_columns": null,
            "grid_auto_flow": null,
            "grid_auto_rows": null,
            "grid_column": null,
            "grid_gap": null,
            "grid_row": null,
            "grid_template_areas": null,
            "grid_template_columns": null,
            "grid_template_rows": null,
            "height": null,
            "justify_content": null,
            "justify_items": null,
            "left": null,
            "margin": null,
            "max_height": null,
            "max_width": null,
            "min_height": null,
            "min_width": null,
            "object_fit": null,
            "object_position": null,
            "order": null,
            "overflow": null,
            "overflow_x": null,
            "overflow_y": null,
            "padding": null,
            "right": null,
            "top": null,
            "visibility": null,
            "width": null
          }
        },
        "1cecc30f605646d585cf43563242784e": {
          "model_module": "@jupyter-widgets/controls",
          "model_name": "DescriptionStyleModel",
          "model_module_version": "1.5.0",
          "state": {
            "_model_module": "@jupyter-widgets/controls",
            "_model_module_version": "1.5.0",
            "_model_name": "DescriptionStyleModel",
            "_view_count": null,
            "_view_module": "@jupyter-widgets/base",
            "_view_module_version": "1.2.0",
            "_view_name": "StyleView",
            "description_width": ""
          }
        },
        "f575d5992349414c8a87e6546a7510ef": {
          "model_module": "@jupyter-widgets/base",
          "model_name": "LayoutModel",
          "model_module_version": "1.2.0",
          "state": {
            "_model_module": "@jupyter-widgets/base",
            "_model_module_version": "1.2.0",
            "_model_name": "LayoutModel",
            "_view_count": null,
            "_view_module": "@jupyter-widgets/base",
            "_view_module_version": "1.2.0",
            "_view_name": "LayoutView",
            "align_content": null,
            "align_items": null,
            "align_self": null,
            "border": null,
            "bottom": null,
            "display": null,
            "flex": null,
            "flex_flow": null,
            "grid_area": null,
            "grid_auto_columns": null,
            "grid_auto_flow": null,
            "grid_auto_rows": null,
            "grid_column": null,
            "grid_gap": null,
            "grid_row": null,
            "grid_template_areas": null,
            "grid_template_columns": null,
            "grid_template_rows": null,
            "height": null,
            "justify_content": null,
            "justify_items": null,
            "left": null,
            "margin": null,
            "max_height": null,
            "max_width": null,
            "min_height": null,
            "min_width": null,
            "object_fit": null,
            "object_position": null,
            "order": null,
            "overflow": null,
            "overflow_x": null,
            "overflow_y": null,
            "padding": null,
            "right": null,
            "top": null,
            "visibility": null,
            "width": null
          }
        },
        "959151783b8c4cf189f3ef0ea137f226": {
          "model_module": "@jupyter-widgets/controls",
          "model_name": "ProgressStyleModel",
          "model_module_version": "1.5.0",
          "state": {
            "_model_module": "@jupyter-widgets/controls",
            "_model_module_version": "1.5.0",
            "_model_name": "ProgressStyleModel",
            "_view_count": null,
            "_view_module": "@jupyter-widgets/base",
            "_view_module_version": "1.2.0",
            "_view_name": "StyleView",
            "bar_color": null,
            "description_width": ""
          }
        },
        "f6f737fa75034c869d9adc0e13e54a35": {
          "model_module": "@jupyter-widgets/base",
          "model_name": "LayoutModel",
          "model_module_version": "1.2.0",
          "state": {
            "_model_module": "@jupyter-widgets/base",
            "_model_module_version": "1.2.0",
            "_model_name": "LayoutModel",
            "_view_count": null,
            "_view_module": "@jupyter-widgets/base",
            "_view_module_version": "1.2.0",
            "_view_name": "LayoutView",
            "align_content": null,
            "align_items": null,
            "align_self": null,
            "border": null,
            "bottom": null,
            "display": null,
            "flex": null,
            "flex_flow": null,
            "grid_area": null,
            "grid_auto_columns": null,
            "grid_auto_flow": null,
            "grid_auto_rows": null,
            "grid_column": null,
            "grid_gap": null,
            "grid_row": null,
            "grid_template_areas": null,
            "grid_template_columns": null,
            "grid_template_rows": null,
            "height": null,
            "justify_content": null,
            "justify_items": null,
            "left": null,
            "margin": null,
            "max_height": null,
            "max_width": null,
            "min_height": null,
            "min_width": null,
            "object_fit": null,
            "object_position": null,
            "order": null,
            "overflow": null,
            "overflow_x": null,
            "overflow_y": null,
            "padding": null,
            "right": null,
            "top": null,
            "visibility": null,
            "width": null
          }
        },
        "36c594cebbcc46ec9dad662e43b17b0c": {
          "model_module": "@jupyter-widgets/controls",
          "model_name": "DescriptionStyleModel",
          "model_module_version": "1.5.0",
          "state": {
            "_model_module": "@jupyter-widgets/controls",
            "_model_module_version": "1.5.0",
            "_model_name": "DescriptionStyleModel",
            "_view_count": null,
            "_view_module": "@jupyter-widgets/base",
            "_view_module_version": "1.2.0",
            "_view_name": "StyleView",
            "description_width": ""
          }
        }
      }
    }
  },
  "cells": [
    {
      "cell_type": "code",
      "execution_count": null,
      "metadata": {
        "colab": {
          "base_uri": "https://localhost:8080/"
        },
        "id": "w2-0FwxCumeM",
        "outputId": "c4d9763f-9913-422f-f420-6a53eb0d3283"
      },
      "outputs": [
        {
          "output_type": "stream",
          "name": "stdout",
          "text": [
            "Downloading...\n",
            "From: https://drive.google.com/uc?id=14LTjGklmON-V-JGahB-065kTUEtw93aT\n",
            "To: /content/games_metadata.json\n",
            "\r  0% 0.00/17.0M [00:00<?, ?B/s]\r 71% 12.1M/17.0M [00:00<00:00, 120MB/s]\r100% 17.0M/17.0M [00:00<00:00, 131MB/s]\n"
          ]
        }
      ],
      "source": [
        "! gdown <id>"
      ]
    },
    {
      "cell_type": "code",
      "source": [
        "import pandas as pd"
      ],
      "metadata": {
        "id": "4nTuoYluuuVo"
      },
      "execution_count": null,
      "outputs": []
    },
    {
      "cell_type": "code",
      "source": [
        "df = pd.read_json('/content/games_metadata.json')"
      ],
      "metadata": {
        "id": "Q1VMu1Mquvix"
      },
      "execution_count": null,
      "outputs": []
    },
    {
      "cell_type": "code",
      "source": [
        "df = df[df['description'] != ''].copy()"
      ],
      "metadata": {
        "id": "aBZWjbdNuxp4"
      },
      "execution_count": null,
      "outputs": []
    },
    {
      "cell_type": "code",
      "source": [
        "len(df)"
      ],
      "metadata": {
        "colab": {
          "base_uri": "https://localhost:8080/"
        },
        "id": "2OlpFRJM1R9B",
        "outputId": "646003f6-c618-4713-b920-398bd1fcfd56"
      },
      "execution_count": null,
      "outputs": [
        {
          "output_type": "execute_result",
          "data": {
            "text/plain": [
              "39346"
            ]
          },
          "metadata": {},
          "execution_count": 92
        }
      ]
    },
    {
      "cell_type": "markdown",
      "source": [
        "Попробуем предсказать 2 тега"
      ],
      "metadata": {
        "id": "Lhcm2GMd9tV2"
      }
    },
    {
      "cell_type": "markdown",
      "source": [
        "Создадим целевые переменные"
      ],
      "metadata": {
        "id": "PfaDDHAJ90qo"
      }
    },
    {
      "cell_type": "code",
      "source": [
        "def action_in_tag_list(row):\n",
        "    return ('Action' in list(row['tags'])) * 1"
      ],
      "metadata": {
        "id": "5nHoCaUPu4kg"
      },
      "execution_count": null,
      "outputs": []
    },
    {
      "cell_type": "code",
      "source": [
        "def cute_in_tag_list(row):\n",
        "    return ('Cute' in list(row['tags'])) * 1"
      ],
      "metadata": {
        "id": "jvTPTvCWvNoI"
      },
      "execution_count": null,
      "outputs": []
    },
    {
      "cell_type": "code",
      "source": [
        "df['action'] = df.apply(action_in_tag_list,axis=1)"
      ],
      "metadata": {
        "id": "4rU1u1L8vUmI"
      },
      "execution_count": null,
      "outputs": []
    },
    {
      "cell_type": "code",
      "source": [
        "df['cute'] = df.apply(cute_in_tag_list,axis=1)"
      ],
      "metadata": {
        "id": "o8zEorXdvWa-"
      },
      "execution_count": null,
      "outputs": []
    },
    {
      "cell_type": "code",
      "source": [
        "df['action'].value_counts()"
      ],
      "metadata": {
        "colab": {
          "base_uri": "https://localhost:8080/"
        },
        "id": "es7ALyIXvZuH",
        "outputId": "a4c40ed4-4429-4f25-fc9d-f1dacd046467"
      },
      "execution_count": null,
      "outputs": [
        {
          "output_type": "execute_result",
          "data": {
            "text/plain": [
              "0    22060\n",
              "1    17286\n",
              "Name: action, dtype: int64"
            ]
          },
          "metadata": {},
          "execution_count": 84
        }
      ]
    },
    {
      "cell_type": "code",
      "source": [
        "df['cute'].value_counts()"
      ],
      "metadata": {
        "colab": {
          "base_uri": "https://localhost:8080/"
        },
        "id": "6zwOC6XgvaeX",
        "outputId": "05865daf-4250-46df-824b-a2273d16ea16"
      },
      "execution_count": null,
      "outputs": [
        {
          "output_type": "execute_result",
          "data": {
            "text/plain": [
              "0    34016\n",
              "1     5330\n",
              "Name: cute, dtype: int64"
            ]
          },
          "metadata": {},
          "execution_count": 85
        }
      ]
    },
    {
      "cell_type": "code",
      "source": [
        "df.groupby(['action','cute'])['app_id'].agg('count')"
      ],
      "metadata": {
        "colab": {
          "base_uri": "https://localhost:8080/"
        },
        "id": "aIRTflzmvyXx",
        "outputId": "616456e7-3aea-4972-d9a6-4e419be275f2"
      },
      "execution_count": null,
      "outputs": [
        {
          "output_type": "execute_result",
          "data": {
            "text/plain": [
              "action  cute\n",
              "0       0       18594\n",
              "        1        3466\n",
              "1       0       15422\n",
              "        1        1864\n",
              "Name: app_id, dtype: int64"
            ]
          },
          "metadata": {},
          "execution_count": 86
        }
      ]
    },
    {
      "cell_type": "markdown",
      "source": [
        "Создадим переменную для будущей стратификации данных при разделении на train, val, test"
      ],
      "metadata": {
        "id": "nAHl2ng795Nv"
      }
    },
    {
      "cell_type": "code",
      "source": [
        "def action_cute(row):\n",
        "    return str(row['action']) + str(row['cute'])"
      ],
      "metadata": {
        "id": "Yn_v6FxGzjyd"
      },
      "execution_count": null,
      "outputs": []
    },
    {
      "cell_type": "code",
      "source": [
        "df['action_cute'] = df.apply(action_cute,axis=1)"
      ],
      "metadata": {
        "id": "pZOQ1XjbyyUM"
      },
      "execution_count": null,
      "outputs": []
    },
    {
      "cell_type": "code",
      "source": [
        "df"
      ],
      "metadata": {
        "colab": {
          "base_uri": "https://localhost:8080/",
          "height": 423
        },
        "id": "ERrAXiRVzCi4",
        "outputId": "9cd3b6c0-6bd9-4c15-ab8d-916f5812bc89"
      },
      "execution_count": null,
      "outputs": [
        {
          "output_type": "execute_result",
          "data": {
            "text/plain": [
              "        app_id                                        description  \\\n",
              "0        10090  Call of Duty is back, redefining war like you'...   \n",
              "1        13500  Enter the dark underworld of Prince of Persia ...   \n",
              "3       113020  Monaco: What's Yours Is Mine is a single playe...   \n",
              "4       226560  Escape Dead Island is a Survival-Mystery adven...   \n",
              "5       249050  Dungeon of the Endless is a Rogue-Like Dungeon...   \n",
              "...        ...                                                ...   \n",
              "48313  1803600  Gone Rogue is a tactical stealth game with RPG...   \n",
              "48314  1811990  Take on the elements in Wildfrost, a tactical ...   \n",
              "48315  1868120  Competitive multiplayer match with vehicles an...   \n",
              "48316  2206390  Feel the Neon in Your Bones! How would you lik...   \n",
              "48317  2330750  The epitome of a modern traditional roguelike:...   \n",
              "\n",
              "                                                    tags  action  cute  \\\n",
              "0      [Zombies, World War II, FPS, Multiplayer, Acti...       1     0   \n",
              "1      [Action, Adventure, Parkour, Third Person, Gre...       1     0   \n",
              "3      [Co-op, Stealth, Indie, Heist, Local Co-Op, St...       1     0   \n",
              "4      [Zombies, Adventure, Survival, Action, Third P...       1     0   \n",
              "5      [Roguelike, Strategy, Tower Defense, Pixel Gra...       0     0   \n",
              "...                                                  ...     ...   ...   \n",
              "48313  [Stealth, Action, Real Time Tactics, Isometric...       1     0   \n",
              "48314  [Card Battler, Difficult, Roguelike Deckbuilde...       0     0   \n",
              "48315  [FPS, Third-Person Shooter, Multiplayer, Shoot...       1     0   \n",
              "48316  [3D Platformer, Rhythm, Parkour, 3D, Atmospher...       0     1   \n",
              "48317  [Traditional Roguelike, Sandbox, RPG, Zombies,...       0     0   \n",
              "\n",
              "      action_cute  \n",
              "0              10  \n",
              "1              10  \n",
              "3              10  \n",
              "4              10  \n",
              "5              00  \n",
              "...           ...  \n",
              "48313          10  \n",
              "48314          00  \n",
              "48315          10  \n",
              "48316          01  \n",
              "48317          00  \n",
              "\n",
              "[39346 rows x 6 columns]"
            ],
            "text/html": [
              "\n",
              "  <div id=\"df-e5aa7b34-d0a2-4030-903f-41c513639f7f\">\n",
              "    <div class=\"colab-df-container\">\n",
              "      <div>\n",
              "<style scoped>\n",
              "    .dataframe tbody tr th:only-of-type {\n",
              "        vertical-align: middle;\n",
              "    }\n",
              "\n",
              "    .dataframe tbody tr th {\n",
              "        vertical-align: top;\n",
              "    }\n",
              "\n",
              "    .dataframe thead th {\n",
              "        text-align: right;\n",
              "    }\n",
              "</style>\n",
              "<table border=\"1\" class=\"dataframe\">\n",
              "  <thead>\n",
              "    <tr style=\"text-align: right;\">\n",
              "      <th></th>\n",
              "      <th>app_id</th>\n",
              "      <th>description</th>\n",
              "      <th>tags</th>\n",
              "      <th>action</th>\n",
              "      <th>cute</th>\n",
              "      <th>action_cute</th>\n",
              "    </tr>\n",
              "  </thead>\n",
              "  <tbody>\n",
              "    <tr>\n",
              "      <th>0</th>\n",
              "      <td>10090</td>\n",
              "      <td>Call of Duty is back, redefining war like you'...</td>\n",
              "      <td>[Zombies, World War II, FPS, Multiplayer, Acti...</td>\n",
              "      <td>1</td>\n",
              "      <td>0</td>\n",
              "      <td>10</td>\n",
              "    </tr>\n",
              "    <tr>\n",
              "      <th>1</th>\n",
              "      <td>13500</td>\n",
              "      <td>Enter the dark underworld of Prince of Persia ...</td>\n",
              "      <td>[Action, Adventure, Parkour, Third Person, Gre...</td>\n",
              "      <td>1</td>\n",
              "      <td>0</td>\n",
              "      <td>10</td>\n",
              "    </tr>\n",
              "    <tr>\n",
              "      <th>3</th>\n",
              "      <td>113020</td>\n",
              "      <td>Monaco: What's Yours Is Mine is a single playe...</td>\n",
              "      <td>[Co-op, Stealth, Indie, Heist, Local Co-Op, St...</td>\n",
              "      <td>1</td>\n",
              "      <td>0</td>\n",
              "      <td>10</td>\n",
              "    </tr>\n",
              "    <tr>\n",
              "      <th>4</th>\n",
              "      <td>226560</td>\n",
              "      <td>Escape Dead Island is a Survival-Mystery adven...</td>\n",
              "      <td>[Zombies, Adventure, Survival, Action, Third P...</td>\n",
              "      <td>1</td>\n",
              "      <td>0</td>\n",
              "      <td>10</td>\n",
              "    </tr>\n",
              "    <tr>\n",
              "      <th>5</th>\n",
              "      <td>249050</td>\n",
              "      <td>Dungeon of the Endless is a Rogue-Like Dungeon...</td>\n",
              "      <td>[Roguelike, Strategy, Tower Defense, Pixel Gra...</td>\n",
              "      <td>0</td>\n",
              "      <td>0</td>\n",
              "      <td>00</td>\n",
              "    </tr>\n",
              "    <tr>\n",
              "      <th>...</th>\n",
              "      <td>...</td>\n",
              "      <td>...</td>\n",
              "      <td>...</td>\n",
              "      <td>...</td>\n",
              "      <td>...</td>\n",
              "      <td>...</td>\n",
              "    </tr>\n",
              "    <tr>\n",
              "      <th>48313</th>\n",
              "      <td>1803600</td>\n",
              "      <td>Gone Rogue is a tactical stealth game with RPG...</td>\n",
              "      <td>[Stealth, Action, Real Time Tactics, Isometric...</td>\n",
              "      <td>1</td>\n",
              "      <td>0</td>\n",
              "      <td>10</td>\n",
              "    </tr>\n",
              "    <tr>\n",
              "      <th>48314</th>\n",
              "      <td>1811990</td>\n",
              "      <td>Take on the elements in Wildfrost, a tactical ...</td>\n",
              "      <td>[Card Battler, Difficult, Roguelike Deckbuilde...</td>\n",
              "      <td>0</td>\n",
              "      <td>0</td>\n",
              "      <td>00</td>\n",
              "    </tr>\n",
              "    <tr>\n",
              "      <th>48315</th>\n",
              "      <td>1868120</td>\n",
              "      <td>Competitive multiplayer match with vehicles an...</td>\n",
              "      <td>[FPS, Third-Person Shooter, Multiplayer, Shoot...</td>\n",
              "      <td>1</td>\n",
              "      <td>0</td>\n",
              "      <td>10</td>\n",
              "    </tr>\n",
              "    <tr>\n",
              "      <th>48316</th>\n",
              "      <td>2206390</td>\n",
              "      <td>Feel the Neon in Your Bones! How would you lik...</td>\n",
              "      <td>[3D Platformer, Rhythm, Parkour, 3D, Atmospher...</td>\n",
              "      <td>0</td>\n",
              "      <td>1</td>\n",
              "      <td>01</td>\n",
              "    </tr>\n",
              "    <tr>\n",
              "      <th>48317</th>\n",
              "      <td>2330750</td>\n",
              "      <td>The epitome of a modern traditional roguelike:...</td>\n",
              "      <td>[Traditional Roguelike, Sandbox, RPG, Zombies,...</td>\n",
              "      <td>0</td>\n",
              "      <td>0</td>\n",
              "      <td>00</td>\n",
              "    </tr>\n",
              "  </tbody>\n",
              "</table>\n",
              "<p>39346 rows × 6 columns</p>\n",
              "</div>\n",
              "      <button class=\"colab-df-convert\" onclick=\"convertToInteractive('df-e5aa7b34-d0a2-4030-903f-41c513639f7f')\"\n",
              "              title=\"Convert this dataframe to an interactive table.\"\n",
              "              style=\"display:none;\">\n",
              "        \n",
              "  <svg xmlns=\"http://www.w3.org/2000/svg\" height=\"24px\"viewBox=\"0 0 24 24\"\n",
              "       width=\"24px\">\n",
              "    <path d=\"M0 0h24v24H0V0z\" fill=\"none\"/>\n",
              "    <path d=\"M18.56 5.44l.94 2.06.94-2.06 2.06-.94-2.06-.94-.94-2.06-.94 2.06-2.06.94zm-11 1L8.5 8.5l.94-2.06 2.06-.94-2.06-.94L8.5 2.5l-.94 2.06-2.06.94zm10 10l.94 2.06.94-2.06 2.06-.94-2.06-.94-.94-2.06-.94 2.06-2.06.94z\"/><path d=\"M17.41 7.96l-1.37-1.37c-.4-.4-.92-.59-1.43-.59-.52 0-1.04.2-1.43.59L10.3 9.45l-7.72 7.72c-.78.78-.78 2.05 0 2.83L4 21.41c.39.39.9.59 1.41.59.51 0 1.02-.2 1.41-.59l7.78-7.78 2.81-2.81c.8-.78.8-2.07 0-2.86zM5.41 20L4 18.59l7.72-7.72 1.47 1.35L5.41 20z\"/>\n",
              "  </svg>\n",
              "      </button>\n",
              "      \n",
              "  <style>\n",
              "    .colab-df-container {\n",
              "      display:flex;\n",
              "      flex-wrap:wrap;\n",
              "      gap: 12px;\n",
              "    }\n",
              "\n",
              "    .colab-df-convert {\n",
              "      background-color: #E8F0FE;\n",
              "      border: none;\n",
              "      border-radius: 50%;\n",
              "      cursor: pointer;\n",
              "      display: none;\n",
              "      fill: #1967D2;\n",
              "      height: 32px;\n",
              "      padding: 0 0 0 0;\n",
              "      width: 32px;\n",
              "    }\n",
              "\n",
              "    .colab-df-convert:hover {\n",
              "      background-color: #E2EBFA;\n",
              "      box-shadow: 0px 1px 2px rgba(60, 64, 67, 0.3), 0px 1px 3px 1px rgba(60, 64, 67, 0.15);\n",
              "      fill: #174EA6;\n",
              "    }\n",
              "\n",
              "    [theme=dark] .colab-df-convert {\n",
              "      background-color: #3B4455;\n",
              "      fill: #D2E3FC;\n",
              "    }\n",
              "\n",
              "    [theme=dark] .colab-df-convert:hover {\n",
              "      background-color: #434B5C;\n",
              "      box-shadow: 0px 1px 3px 1px rgba(0, 0, 0, 0.15);\n",
              "      filter: drop-shadow(0px 1px 2px rgba(0, 0, 0, 0.3));\n",
              "      fill: #FFFFFF;\n",
              "    }\n",
              "  </style>\n",
              "\n",
              "      <script>\n",
              "        const buttonEl =\n",
              "          document.querySelector('#df-e5aa7b34-d0a2-4030-903f-41c513639f7f button.colab-df-convert');\n",
              "        buttonEl.style.display =\n",
              "          google.colab.kernel.accessAllowed ? 'block' : 'none';\n",
              "\n",
              "        async function convertToInteractive(key) {\n",
              "          const element = document.querySelector('#df-e5aa7b34-d0a2-4030-903f-41c513639f7f');\n",
              "          const dataTable =\n",
              "            await google.colab.kernel.invokeFunction('convertToInteractive',\n",
              "                                                     [key], {});\n",
              "          if (!dataTable) return;\n",
              "\n",
              "          const docLinkHtml = 'Like what you see? Visit the ' +\n",
              "            '<a target=\"_blank\" href=https://colab.research.google.com/notebooks/data_table.ipynb>data table notebook</a>'\n",
              "            + ' to learn more about interactive tables.';\n",
              "          element.innerHTML = '';\n",
              "          dataTable['output_type'] = 'display_data';\n",
              "          await google.colab.output.renderOutput(dataTable, element);\n",
              "          const docLink = document.createElement('div');\n",
              "          docLink.innerHTML = docLinkHtml;\n",
              "          element.appendChild(docLink);\n",
              "        }\n",
              "      </script>\n",
              "    </div>\n",
              "  </div>\n",
              "  "
            ]
          },
          "metadata": {},
          "execution_count": 91
        }
      ]
    },
    {
      "cell_type": "code",
      "source": [
        "from sklearn.model_selection import train_test_split\n",
        "train, test = train_test_split(df,train_size=0.6,random_state=42,stratify=df['action_cute'])\n",
        "val, test = train_test_split(test,train_size=0.5,random_state=42,stratify=test['action_cute'])"
      ],
      "metadata": {
        "id": "D-v1jzXaY5R_"
      },
      "execution_count": null,
      "outputs": []
    },
    {
      "cell_type": "code",
      "source": [
        "train['action_cute'].value_counts() / len(df)"
      ],
      "metadata": {
        "colab": {
          "base_uri": "https://localhost:8080/"
        },
        "id": "kKXttEEJz6RQ",
        "outputId": "6dc720d9-8eaa-4fe5-e57f-79989c2593d5"
      },
      "execution_count": null,
      "outputs": [
        {
          "output_type": "execute_result",
          "data": {
            "text/plain": [
              "00    0.283536\n",
              "10    0.235170\n",
              "01    0.052864\n",
              "11    0.028415\n",
              "Name: action_cute, dtype: float64"
            ]
          },
          "metadata": {},
          "execution_count": 103
        }
      ]
    },
    {
      "cell_type": "code",
      "source": [
        "len(train)"
      ],
      "metadata": {
        "colab": {
          "base_uri": "https://localhost:8080/"
        },
        "id": "xMmm89B904QJ",
        "outputId": "14b7e180-5072-42cd-b6f9-930b44afe415"
      },
      "execution_count": null,
      "outputs": [
        {
          "output_type": "execute_result",
          "data": {
            "text/plain": [
              "23607"
            ]
          },
          "metadata": {},
          "execution_count": 105
        }
      ]
    },
    {
      "cell_type": "code",
      "source": [
        "val['action_cute'].value_counts() / len(df)"
      ],
      "metadata": {
        "colab": {
          "base_uri": "https://localhost:8080/"
        },
        "id": "kVLso0Hp0zjh",
        "outputId": "d5e8fc60-186d-4c33-b819-0a9d23ee7faa"
      },
      "execution_count": null,
      "outputs": [
        {
          "output_type": "execute_result",
          "data": {
            "text/plain": [
              "00    0.094520\n",
              "10    0.078382\n",
              "01    0.017613\n",
              "11    0.009480\n",
              "Name: action_cute, dtype: float64"
            ]
          },
          "metadata": {},
          "execution_count": 104
        }
      ]
    },
    {
      "cell_type": "code",
      "source": [
        "len(val)"
      ],
      "metadata": {
        "colab": {
          "base_uri": "https://localhost:8080/"
        },
        "id": "mY6GPrhx07CY",
        "outputId": "26b950fc-91ff-432d-a928-5d4c064fc80e"
      },
      "execution_count": null,
      "outputs": [
        {
          "output_type": "execute_result",
          "data": {
            "text/plain": [
              "7869"
            ]
          },
          "metadata": {},
          "execution_count": 106
        }
      ]
    },
    {
      "cell_type": "code",
      "source": [
        "( val['action_cute'].value_counts() / len(df) ) * (len(train) / len(val))"
      ],
      "metadata": {
        "colab": {
          "base_uri": "https://localhost:8080/"
        },
        "id": "jmrcz0Xf0-9H",
        "outputId": "85773974-aedd-47bb-a9ab-42e6aa68718c"
      },
      "execution_count": null,
      "outputs": [
        {
          "output_type": "execute_result",
          "data": {
            "text/plain": [
              "00    0.283561\n",
              "10    0.235145\n",
              "01    0.052839\n",
              "11    0.028440\n",
              "Name: action_cute, dtype: float64"
            ]
          },
          "metadata": {},
          "execution_count": 108
        }
      ]
    },
    {
      "cell_type": "code",
      "source": [
        "test['action_cute'].value_counts() / len(df)"
      ],
      "metadata": {
        "colab": {
          "base_uri": "https://localhost:8080/"
        },
        "id": "lMmKfaJr1HWG",
        "outputId": "625552ff-e1a5-469f-b716-bfd537d8ccf7"
      },
      "execution_count": null,
      "outputs": [
        {
          "output_type": "execute_result",
          "data": {
            "text/plain": [
              "00    0.094520\n",
              "10    0.078407\n",
              "01    0.017613\n",
              "11    0.009480\n",
              "Name: action_cute, dtype: float64"
            ]
          },
          "metadata": {},
          "execution_count": 109
        }
      ]
    },
    {
      "cell_type": "code",
      "source": [
        "train_full = pd.concat([train,val])"
      ],
      "metadata": {
        "id": "qgjwVTSCY9DX"
      },
      "execution_count": null,
      "outputs": []
    },
    {
      "cell_type": "markdown",
      "source": [
        "https://github.com/catboost/tutorials/blob/master/classification/classification_tutorial.ipynb"
      ],
      "metadata": {
        "id": "Mr8lDyJxvhza"
      }
    },
    {
      "cell_type": "code",
      "source": [
        "from copy import deepcopy"
      ],
      "metadata": {
        "id": "PmhChjtdyBux"
      },
      "execution_count": null,
      "outputs": []
    },
    {
      "cell_type": "code",
      "source": [
        "df"
      ],
      "metadata": {
        "colab": {
          "base_uri": "https://localhost:8080/",
          "height": 423
        },
        "id": "90uYpceB1fKR",
        "outputId": "546536c4-823c-4f1f-abde-f6612d280e83"
      },
      "execution_count": null,
      "outputs": [
        {
          "output_type": "execute_result",
          "data": {
            "text/plain": [
              "        app_id                                        description  \\\n",
              "0        10090  Call of Duty is back, redefining war like you'...   \n",
              "1        13500  Enter the dark underworld of Prince of Persia ...   \n",
              "3       113020  Monaco: What's Yours Is Mine is a single playe...   \n",
              "4       226560  Escape Dead Island is a Survival-Mystery adven...   \n",
              "5       249050  Dungeon of the Endless is a Rogue-Like Dungeon...   \n",
              "...        ...                                                ...   \n",
              "48313  1803600  Gone Rogue is a tactical stealth game with RPG...   \n",
              "48314  1811990  Take on the elements in Wildfrost, a tactical ...   \n",
              "48315  1868120  Competitive multiplayer match with vehicles an...   \n",
              "48316  2206390  Feel the Neon in Your Bones! How would you lik...   \n",
              "48317  2330750  The epitome of a modern traditional roguelike:...   \n",
              "\n",
              "                                                    tags  action  cute  \\\n",
              "0      [Zombies, World War II, FPS, Multiplayer, Acti...       1     0   \n",
              "1      [Action, Adventure, Parkour, Third Person, Gre...       1     0   \n",
              "3      [Co-op, Stealth, Indie, Heist, Local Co-Op, St...       1     0   \n",
              "4      [Zombies, Adventure, Survival, Action, Third P...       1     0   \n",
              "5      [Roguelike, Strategy, Tower Defense, Pixel Gra...       0     0   \n",
              "...                                                  ...     ...   ...   \n",
              "48313  [Stealth, Action, Real Time Tactics, Isometric...       1     0   \n",
              "48314  [Card Battler, Difficult, Roguelike Deckbuilde...       0     0   \n",
              "48315  [FPS, Third-Person Shooter, Multiplayer, Shoot...       1     0   \n",
              "48316  [3D Platformer, Rhythm, Parkour, 3D, Atmospher...       0     1   \n",
              "48317  [Traditional Roguelike, Sandbox, RPG, Zombies,...       0     0   \n",
              "\n",
              "      action_cute  \n",
              "0              10  \n",
              "1              10  \n",
              "3              10  \n",
              "4              10  \n",
              "5              00  \n",
              "...           ...  \n",
              "48313          10  \n",
              "48314          00  \n",
              "48315          10  \n",
              "48316          01  \n",
              "48317          00  \n",
              "\n",
              "[39346 rows x 6 columns]"
            ],
            "text/html": [
              "\n",
              "  <div id=\"df-3784499c-1e56-485a-a5f2-1d2aea0712e0\">\n",
              "    <div class=\"colab-df-container\">\n",
              "      <div>\n",
              "<style scoped>\n",
              "    .dataframe tbody tr th:only-of-type {\n",
              "        vertical-align: middle;\n",
              "    }\n",
              "\n",
              "    .dataframe tbody tr th {\n",
              "        vertical-align: top;\n",
              "    }\n",
              "\n",
              "    .dataframe thead th {\n",
              "        text-align: right;\n",
              "    }\n",
              "</style>\n",
              "<table border=\"1\" class=\"dataframe\">\n",
              "  <thead>\n",
              "    <tr style=\"text-align: right;\">\n",
              "      <th></th>\n",
              "      <th>app_id</th>\n",
              "      <th>description</th>\n",
              "      <th>tags</th>\n",
              "      <th>action</th>\n",
              "      <th>cute</th>\n",
              "      <th>action_cute</th>\n",
              "    </tr>\n",
              "  </thead>\n",
              "  <tbody>\n",
              "    <tr>\n",
              "      <th>0</th>\n",
              "      <td>10090</td>\n",
              "      <td>Call of Duty is back, redefining war like you'...</td>\n",
              "      <td>[Zombies, World War II, FPS, Multiplayer, Acti...</td>\n",
              "      <td>1</td>\n",
              "      <td>0</td>\n",
              "      <td>10</td>\n",
              "    </tr>\n",
              "    <tr>\n",
              "      <th>1</th>\n",
              "      <td>13500</td>\n",
              "      <td>Enter the dark underworld of Prince of Persia ...</td>\n",
              "      <td>[Action, Adventure, Parkour, Third Person, Gre...</td>\n",
              "      <td>1</td>\n",
              "      <td>0</td>\n",
              "      <td>10</td>\n",
              "    </tr>\n",
              "    <tr>\n",
              "      <th>3</th>\n",
              "      <td>113020</td>\n",
              "      <td>Monaco: What's Yours Is Mine is a single playe...</td>\n",
              "      <td>[Co-op, Stealth, Indie, Heist, Local Co-Op, St...</td>\n",
              "      <td>1</td>\n",
              "      <td>0</td>\n",
              "      <td>10</td>\n",
              "    </tr>\n",
              "    <tr>\n",
              "      <th>4</th>\n",
              "      <td>226560</td>\n",
              "      <td>Escape Dead Island is a Survival-Mystery adven...</td>\n",
              "      <td>[Zombies, Adventure, Survival, Action, Third P...</td>\n",
              "      <td>1</td>\n",
              "      <td>0</td>\n",
              "      <td>10</td>\n",
              "    </tr>\n",
              "    <tr>\n",
              "      <th>5</th>\n",
              "      <td>249050</td>\n",
              "      <td>Dungeon of the Endless is a Rogue-Like Dungeon...</td>\n",
              "      <td>[Roguelike, Strategy, Tower Defense, Pixel Gra...</td>\n",
              "      <td>0</td>\n",
              "      <td>0</td>\n",
              "      <td>00</td>\n",
              "    </tr>\n",
              "    <tr>\n",
              "      <th>...</th>\n",
              "      <td>...</td>\n",
              "      <td>...</td>\n",
              "      <td>...</td>\n",
              "      <td>...</td>\n",
              "      <td>...</td>\n",
              "      <td>...</td>\n",
              "    </tr>\n",
              "    <tr>\n",
              "      <th>48313</th>\n",
              "      <td>1803600</td>\n",
              "      <td>Gone Rogue is a tactical stealth game with RPG...</td>\n",
              "      <td>[Stealth, Action, Real Time Tactics, Isometric...</td>\n",
              "      <td>1</td>\n",
              "      <td>0</td>\n",
              "      <td>10</td>\n",
              "    </tr>\n",
              "    <tr>\n",
              "      <th>48314</th>\n",
              "      <td>1811990</td>\n",
              "      <td>Take on the elements in Wildfrost, a tactical ...</td>\n",
              "      <td>[Card Battler, Difficult, Roguelike Deckbuilde...</td>\n",
              "      <td>0</td>\n",
              "      <td>0</td>\n",
              "      <td>00</td>\n",
              "    </tr>\n",
              "    <tr>\n",
              "      <th>48315</th>\n",
              "      <td>1868120</td>\n",
              "      <td>Competitive multiplayer match with vehicles an...</td>\n",
              "      <td>[FPS, Third-Person Shooter, Multiplayer, Shoot...</td>\n",
              "      <td>1</td>\n",
              "      <td>0</td>\n",
              "      <td>10</td>\n",
              "    </tr>\n",
              "    <tr>\n",
              "      <th>48316</th>\n",
              "      <td>2206390</td>\n",
              "      <td>Feel the Neon in Your Bones! How would you lik...</td>\n",
              "      <td>[3D Platformer, Rhythm, Parkour, 3D, Atmospher...</td>\n",
              "      <td>0</td>\n",
              "      <td>1</td>\n",
              "      <td>01</td>\n",
              "    </tr>\n",
              "    <tr>\n",
              "      <th>48317</th>\n",
              "      <td>2330750</td>\n",
              "      <td>The epitome of a modern traditional roguelike:...</td>\n",
              "      <td>[Traditional Roguelike, Sandbox, RPG, Zombies,...</td>\n",
              "      <td>0</td>\n",
              "      <td>0</td>\n",
              "      <td>00</td>\n",
              "    </tr>\n",
              "  </tbody>\n",
              "</table>\n",
              "<p>39346 rows × 6 columns</p>\n",
              "</div>\n",
              "      <button class=\"colab-df-convert\" onclick=\"convertToInteractive('df-3784499c-1e56-485a-a5f2-1d2aea0712e0')\"\n",
              "              title=\"Convert this dataframe to an interactive table.\"\n",
              "              style=\"display:none;\">\n",
              "        \n",
              "  <svg xmlns=\"http://www.w3.org/2000/svg\" height=\"24px\"viewBox=\"0 0 24 24\"\n",
              "       width=\"24px\">\n",
              "    <path d=\"M0 0h24v24H0V0z\" fill=\"none\"/>\n",
              "    <path d=\"M18.56 5.44l.94 2.06.94-2.06 2.06-.94-2.06-.94-.94-2.06-.94 2.06-2.06.94zm-11 1L8.5 8.5l.94-2.06 2.06-.94-2.06-.94L8.5 2.5l-.94 2.06-2.06.94zm10 10l.94 2.06.94-2.06 2.06-.94-2.06-.94-.94-2.06-.94 2.06-2.06.94z\"/><path d=\"M17.41 7.96l-1.37-1.37c-.4-.4-.92-.59-1.43-.59-.52 0-1.04.2-1.43.59L10.3 9.45l-7.72 7.72c-.78.78-.78 2.05 0 2.83L4 21.41c.39.39.9.59 1.41.59.51 0 1.02-.2 1.41-.59l7.78-7.78 2.81-2.81c.8-.78.8-2.07 0-2.86zM5.41 20L4 18.59l7.72-7.72 1.47 1.35L5.41 20z\"/>\n",
              "  </svg>\n",
              "      </button>\n",
              "      \n",
              "  <style>\n",
              "    .colab-df-container {\n",
              "      display:flex;\n",
              "      flex-wrap:wrap;\n",
              "      gap: 12px;\n",
              "    }\n",
              "\n",
              "    .colab-df-convert {\n",
              "      background-color: #E8F0FE;\n",
              "      border: none;\n",
              "      border-radius: 50%;\n",
              "      cursor: pointer;\n",
              "      display: none;\n",
              "      fill: #1967D2;\n",
              "      height: 32px;\n",
              "      padding: 0 0 0 0;\n",
              "      width: 32px;\n",
              "    }\n",
              "\n",
              "    .colab-df-convert:hover {\n",
              "      background-color: #E2EBFA;\n",
              "      box-shadow: 0px 1px 2px rgba(60, 64, 67, 0.3), 0px 1px 3px 1px rgba(60, 64, 67, 0.15);\n",
              "      fill: #174EA6;\n",
              "    }\n",
              "\n",
              "    [theme=dark] .colab-df-convert {\n",
              "      background-color: #3B4455;\n",
              "      fill: #D2E3FC;\n",
              "    }\n",
              "\n",
              "    [theme=dark] .colab-df-convert:hover {\n",
              "      background-color: #434B5C;\n",
              "      box-shadow: 0px 1px 3px 1px rgba(0, 0, 0, 0.15);\n",
              "      filter: drop-shadow(0px 1px 2px rgba(0, 0, 0, 0.3));\n",
              "      fill: #FFFFFF;\n",
              "    }\n",
              "  </style>\n",
              "\n",
              "      <script>\n",
              "        const buttonEl =\n",
              "          document.querySelector('#df-3784499c-1e56-485a-a5f2-1d2aea0712e0 button.colab-df-convert');\n",
              "        buttonEl.style.display =\n",
              "          google.colab.kernel.accessAllowed ? 'block' : 'none';\n",
              "\n",
              "        async function convertToInteractive(key) {\n",
              "          const element = document.querySelector('#df-3784499c-1e56-485a-a5f2-1d2aea0712e0');\n",
              "          const dataTable =\n",
              "            await google.colab.kernel.invokeFunction('convertToInteractive',\n",
              "                                                     [key], {});\n",
              "          if (!dataTable) return;\n",
              "\n",
              "          const docLinkHtml = 'Like what you see? Visit the ' +\n",
              "            '<a target=\"_blank\" href=https://colab.research.google.com/notebooks/data_table.ipynb>data table notebook</a>'\n",
              "            + ' to learn more about interactive tables.';\n",
              "          element.innerHTML = '';\n",
              "          dataTable['output_type'] = 'display_data';\n",
              "          await google.colab.output.renderOutput(dataTable, element);\n",
              "          const docLink = document.createElement('div');\n",
              "          docLink.innerHTML = docLinkHtml;\n",
              "          element.appendChild(docLink);\n",
              "        }\n",
              "      </script>\n",
              "    </div>\n",
              "  </div>\n",
              "  "
            ]
          },
          "metadata": {},
          "execution_count": 114
        }
      ]
    },
    {
      "cell_type": "markdown",
      "source": [
        "Создадим функцию которая возвращает датасет в котором каждая строка размножена на кол-во вариантов комбинаций целевых переменных. Задается главная целевая переменная обозначающая верную комбинацию целевых переменных."
      ],
      "metadata": {
        "id": "-ttSEWZc-E5N"
      }
    },
    {
      "cell_type": "code",
      "source": [
        "def construct_multiclass_dataset(df, start_group_id):\n",
        "  n = start_group_id\n",
        "  df_new_category = []\n",
        "  df_list = df.values\n",
        "  for obj_idx in range(len(df_list)):\n",
        "    obj = list(df_list[obj_idx])\n",
        "    for label in [[0,0],[0,1],[1,0],[1,1]]:\n",
        "      new_obj = deepcopy(obj)\n",
        "      category = [int(new_obj[3]), int(new_obj[4])]\n",
        "      if category == label:\n",
        "        new_obj.append(1)\n",
        "      else:\n",
        "        new_obj.append(0)\n",
        "      new_obj[3] = label[0]\n",
        "      new_obj[4] = label[1]\n",
        "      new_obj.append(n)\n",
        "      df_new_category.append(new_obj)\n",
        "    n+=1\n",
        "  df_new_category = pd.DataFrame(df_new_category)\n",
        "  df_new_category.columns = ['app_id', 'description', 'tags', 'action', 'cute', 'action_cute', 'value', 'group_id']\n",
        "  return df_new_category\n"
      ],
      "metadata": {
        "id": "izfxzADjxtCt"
      },
      "execution_count": null,
      "outputs": []
    },
    {
      "cell_type": "code",
      "source": [
        "train_multiclass = construct_multiclass_dataset(train,0)"
      ],
      "metadata": {
        "id": "7IgZN1EC2mIi"
      },
      "execution_count": null,
      "outputs": []
    },
    {
      "cell_type": "code",
      "source": [
        "train_multiclass.head(20)"
      ],
      "metadata": {
        "colab": {
          "base_uri": "https://localhost:8080/",
          "height": 676
        },
        "id": "BKJlBXTeeSoV",
        "outputId": "a52e7232-14e3-489f-bfa4-ccd990d80daf"
      },
      "execution_count": null,
      "outputs": [
        {
          "output_type": "execute_result",
          "data": {
            "text/plain": [
              "     app_id                                        description  \\\n",
              "0    531180  Airheart is a dieselpunk airplane action rogue...   \n",
              "1    531180  Airheart is a dieselpunk airplane action rogue...   \n",
              "2    531180  Airheart is a dieselpunk airplane action rogue...   \n",
              "3    531180  Airheart is a dieselpunk airplane action rogue...   \n",
              "4    516940  The famous \"Minesweeper\" is now in virtual rea...   \n",
              "5    516940  The famous \"Minesweeper\" is now in virtual rea...   \n",
              "6    516940  The famous \"Minesweeper\" is now in virtual rea...   \n",
              "7    516940  The famous \"Minesweeper\" is now in virtual rea...   \n",
              "8    488360  Have you ever wished to be sitting next to a f...   \n",
              "9    488360  Have you ever wished to be sitting next to a f...   \n",
              "10   488360  Have you ever wished to be sitting next to a f...   \n",
              "11   488360  Have you ever wished to be sitting next to a f...   \n",
              "12   292990  The latest title in the historical simulation ...   \n",
              "13   292990  The latest title in the historical simulation ...   \n",
              "14   292990  The latest title in the historical simulation ...   \n",
              "15   292990  The latest title in the historical simulation ...   \n",
              "16  1388370  Heroic Armored Company is a modern tank warfar...   \n",
              "17  1388370  Heroic Armored Company is a modern tank warfar...   \n",
              "18  1388370  Heroic Armored Company is a modern tank warfar...   \n",
              "19  1388370  Heroic Armored Company is a modern tank warfar...   \n",
              "\n",
              "                                                 tags  action  cute  \\\n",
              "0   [Action, Indie, Action Roguelike, Female Prota...       0     0   \n",
              "1   [Action, Indie, Action Roguelike, Female Prota...       0     1   \n",
              "2   [Action, Indie, Action Roguelike, Female Prota...       1     0   \n",
              "3   [Action, Indie, Action Roguelike, Female Prota...       1     1   \n",
              "4     [Indie, Casual, Simulation, Action, VR, Puzzle]       0     0   \n",
              "5     [Indie, Casual, Simulation, Action, VR, Puzzle]       0     1   \n",
              "6     [Indie, Casual, Simulation, Action, VR, Puzzle]       1     0   \n",
              "7     [Indie, Casual, Simulation, Action, VR, Puzzle]       1     1   \n",
              "8                 [Simulation, Adventure, Action, VR]       0     0   \n",
              "9                 [Simulation, Adventure, Action, VR]       0     1   \n",
              "10                [Simulation, Adventure, Action, VR]       1     0   \n",
              "11                [Simulation, Adventure, Action, VR]       1     1   \n",
              "12                             [Strategy, Historical]       0     0   \n",
              "13                             [Strategy, Historical]       0     1   \n",
              "14                             [Strategy, Historical]       1     0   \n",
              "15                             [Strategy, Historical]       1     1   \n",
              "16  [Early Access, Tanks, Vehicular Combat, Milita...       0     0   \n",
              "17  [Early Access, Tanks, Vehicular Combat, Milita...       0     1   \n",
              "18  [Early Access, Tanks, Vehicular Combat, Milita...       1     0   \n",
              "19  [Early Access, Tanks, Vehicular Combat, Milita...       1     1   \n",
              "\n",
              "   action_cute  value  group_id  \n",
              "0           10      0         0  \n",
              "1           10      0         0  \n",
              "2           10      1         0  \n",
              "3           10      0         0  \n",
              "4           10      0         1  \n",
              "5           10      0         1  \n",
              "6           10      1         1  \n",
              "7           10      0         1  \n",
              "8           10      0         2  \n",
              "9           10      0         2  \n",
              "10          10      1         2  \n",
              "11          10      0         2  \n",
              "12          00      1         3  \n",
              "13          00      0         3  \n",
              "14          00      0         3  \n",
              "15          00      0         3  \n",
              "16          10      0         4  \n",
              "17          10      0         4  \n",
              "18          10      1         4  \n",
              "19          10      0         4  "
            ],
            "text/html": [
              "\n",
              "  <div id=\"df-3742db10-6034-42cf-93fe-23f92b650e31\">\n",
              "    <div class=\"colab-df-container\">\n",
              "      <div>\n",
              "<style scoped>\n",
              "    .dataframe tbody tr th:only-of-type {\n",
              "        vertical-align: middle;\n",
              "    }\n",
              "\n",
              "    .dataframe tbody tr th {\n",
              "        vertical-align: top;\n",
              "    }\n",
              "\n",
              "    .dataframe thead th {\n",
              "        text-align: right;\n",
              "    }\n",
              "</style>\n",
              "<table border=\"1\" class=\"dataframe\">\n",
              "  <thead>\n",
              "    <tr style=\"text-align: right;\">\n",
              "      <th></th>\n",
              "      <th>app_id</th>\n",
              "      <th>description</th>\n",
              "      <th>tags</th>\n",
              "      <th>action</th>\n",
              "      <th>cute</th>\n",
              "      <th>action_cute</th>\n",
              "      <th>value</th>\n",
              "      <th>group_id</th>\n",
              "    </tr>\n",
              "  </thead>\n",
              "  <tbody>\n",
              "    <tr>\n",
              "      <th>0</th>\n",
              "      <td>531180</td>\n",
              "      <td>Airheart is a dieselpunk airplane action rogue...</td>\n",
              "      <td>[Action, Indie, Action Roguelike, Female Prota...</td>\n",
              "      <td>0</td>\n",
              "      <td>0</td>\n",
              "      <td>10</td>\n",
              "      <td>0</td>\n",
              "      <td>0</td>\n",
              "    </tr>\n",
              "    <tr>\n",
              "      <th>1</th>\n",
              "      <td>531180</td>\n",
              "      <td>Airheart is a dieselpunk airplane action rogue...</td>\n",
              "      <td>[Action, Indie, Action Roguelike, Female Prota...</td>\n",
              "      <td>0</td>\n",
              "      <td>1</td>\n",
              "      <td>10</td>\n",
              "      <td>0</td>\n",
              "      <td>0</td>\n",
              "    </tr>\n",
              "    <tr>\n",
              "      <th>2</th>\n",
              "      <td>531180</td>\n",
              "      <td>Airheart is a dieselpunk airplane action rogue...</td>\n",
              "      <td>[Action, Indie, Action Roguelike, Female Prota...</td>\n",
              "      <td>1</td>\n",
              "      <td>0</td>\n",
              "      <td>10</td>\n",
              "      <td>1</td>\n",
              "      <td>0</td>\n",
              "    </tr>\n",
              "    <tr>\n",
              "      <th>3</th>\n",
              "      <td>531180</td>\n",
              "      <td>Airheart is a dieselpunk airplane action rogue...</td>\n",
              "      <td>[Action, Indie, Action Roguelike, Female Prota...</td>\n",
              "      <td>1</td>\n",
              "      <td>1</td>\n",
              "      <td>10</td>\n",
              "      <td>0</td>\n",
              "      <td>0</td>\n",
              "    </tr>\n",
              "    <tr>\n",
              "      <th>4</th>\n",
              "      <td>516940</td>\n",
              "      <td>The famous \"Minesweeper\" is now in virtual rea...</td>\n",
              "      <td>[Indie, Casual, Simulation, Action, VR, Puzzle]</td>\n",
              "      <td>0</td>\n",
              "      <td>0</td>\n",
              "      <td>10</td>\n",
              "      <td>0</td>\n",
              "      <td>1</td>\n",
              "    </tr>\n",
              "    <tr>\n",
              "      <th>5</th>\n",
              "      <td>516940</td>\n",
              "      <td>The famous \"Minesweeper\" is now in virtual rea...</td>\n",
              "      <td>[Indie, Casual, Simulation, Action, VR, Puzzle]</td>\n",
              "      <td>0</td>\n",
              "      <td>1</td>\n",
              "      <td>10</td>\n",
              "      <td>0</td>\n",
              "      <td>1</td>\n",
              "    </tr>\n",
              "    <tr>\n",
              "      <th>6</th>\n",
              "      <td>516940</td>\n",
              "      <td>The famous \"Minesweeper\" is now in virtual rea...</td>\n",
              "      <td>[Indie, Casual, Simulation, Action, VR, Puzzle]</td>\n",
              "      <td>1</td>\n",
              "      <td>0</td>\n",
              "      <td>10</td>\n",
              "      <td>1</td>\n",
              "      <td>1</td>\n",
              "    </tr>\n",
              "    <tr>\n",
              "      <th>7</th>\n",
              "      <td>516940</td>\n",
              "      <td>The famous \"Minesweeper\" is now in virtual rea...</td>\n",
              "      <td>[Indie, Casual, Simulation, Action, VR, Puzzle]</td>\n",
              "      <td>1</td>\n",
              "      <td>1</td>\n",
              "      <td>10</td>\n",
              "      <td>0</td>\n",
              "      <td>1</td>\n",
              "    </tr>\n",
              "    <tr>\n",
              "      <th>8</th>\n",
              "      <td>488360</td>\n",
              "      <td>Have you ever wished to be sitting next to a f...</td>\n",
              "      <td>[Simulation, Adventure, Action, VR]</td>\n",
              "      <td>0</td>\n",
              "      <td>0</td>\n",
              "      <td>10</td>\n",
              "      <td>0</td>\n",
              "      <td>2</td>\n",
              "    </tr>\n",
              "    <tr>\n",
              "      <th>9</th>\n",
              "      <td>488360</td>\n",
              "      <td>Have you ever wished to be sitting next to a f...</td>\n",
              "      <td>[Simulation, Adventure, Action, VR]</td>\n",
              "      <td>0</td>\n",
              "      <td>1</td>\n",
              "      <td>10</td>\n",
              "      <td>0</td>\n",
              "      <td>2</td>\n",
              "    </tr>\n",
              "    <tr>\n",
              "      <th>10</th>\n",
              "      <td>488360</td>\n",
              "      <td>Have you ever wished to be sitting next to a f...</td>\n",
              "      <td>[Simulation, Adventure, Action, VR]</td>\n",
              "      <td>1</td>\n",
              "      <td>0</td>\n",
              "      <td>10</td>\n",
              "      <td>1</td>\n",
              "      <td>2</td>\n",
              "    </tr>\n",
              "    <tr>\n",
              "      <th>11</th>\n",
              "      <td>488360</td>\n",
              "      <td>Have you ever wished to be sitting next to a f...</td>\n",
              "      <td>[Simulation, Adventure, Action, VR]</td>\n",
              "      <td>1</td>\n",
              "      <td>1</td>\n",
              "      <td>10</td>\n",
              "      <td>0</td>\n",
              "      <td>2</td>\n",
              "    </tr>\n",
              "    <tr>\n",
              "      <th>12</th>\n",
              "      <td>292990</td>\n",
              "      <td>The latest title in the historical simulation ...</td>\n",
              "      <td>[Strategy, Historical]</td>\n",
              "      <td>0</td>\n",
              "      <td>0</td>\n",
              "      <td>00</td>\n",
              "      <td>1</td>\n",
              "      <td>3</td>\n",
              "    </tr>\n",
              "    <tr>\n",
              "      <th>13</th>\n",
              "      <td>292990</td>\n",
              "      <td>The latest title in the historical simulation ...</td>\n",
              "      <td>[Strategy, Historical]</td>\n",
              "      <td>0</td>\n",
              "      <td>1</td>\n",
              "      <td>00</td>\n",
              "      <td>0</td>\n",
              "      <td>3</td>\n",
              "    </tr>\n",
              "    <tr>\n",
              "      <th>14</th>\n",
              "      <td>292990</td>\n",
              "      <td>The latest title in the historical simulation ...</td>\n",
              "      <td>[Strategy, Historical]</td>\n",
              "      <td>1</td>\n",
              "      <td>0</td>\n",
              "      <td>00</td>\n",
              "      <td>0</td>\n",
              "      <td>3</td>\n",
              "    </tr>\n",
              "    <tr>\n",
              "      <th>15</th>\n",
              "      <td>292990</td>\n",
              "      <td>The latest title in the historical simulation ...</td>\n",
              "      <td>[Strategy, Historical]</td>\n",
              "      <td>1</td>\n",
              "      <td>1</td>\n",
              "      <td>00</td>\n",
              "      <td>0</td>\n",
              "      <td>3</td>\n",
              "    </tr>\n",
              "    <tr>\n",
              "      <th>16</th>\n",
              "      <td>1388370</td>\n",
              "      <td>Heroic Armored Company is a modern tank warfar...</td>\n",
              "      <td>[Early Access, Tanks, Vehicular Combat, Milita...</td>\n",
              "      <td>0</td>\n",
              "      <td>0</td>\n",
              "      <td>10</td>\n",
              "      <td>0</td>\n",
              "      <td>4</td>\n",
              "    </tr>\n",
              "    <tr>\n",
              "      <th>17</th>\n",
              "      <td>1388370</td>\n",
              "      <td>Heroic Armored Company is a modern tank warfar...</td>\n",
              "      <td>[Early Access, Tanks, Vehicular Combat, Milita...</td>\n",
              "      <td>0</td>\n",
              "      <td>1</td>\n",
              "      <td>10</td>\n",
              "      <td>0</td>\n",
              "      <td>4</td>\n",
              "    </tr>\n",
              "    <tr>\n",
              "      <th>18</th>\n",
              "      <td>1388370</td>\n",
              "      <td>Heroic Armored Company is a modern tank warfar...</td>\n",
              "      <td>[Early Access, Tanks, Vehicular Combat, Milita...</td>\n",
              "      <td>1</td>\n",
              "      <td>0</td>\n",
              "      <td>10</td>\n",
              "      <td>1</td>\n",
              "      <td>4</td>\n",
              "    </tr>\n",
              "    <tr>\n",
              "      <th>19</th>\n",
              "      <td>1388370</td>\n",
              "      <td>Heroic Armored Company is a modern tank warfar...</td>\n",
              "      <td>[Early Access, Tanks, Vehicular Combat, Milita...</td>\n",
              "      <td>1</td>\n",
              "      <td>1</td>\n",
              "      <td>10</td>\n",
              "      <td>0</td>\n",
              "      <td>4</td>\n",
              "    </tr>\n",
              "  </tbody>\n",
              "</table>\n",
              "</div>\n",
              "      <button class=\"colab-df-convert\" onclick=\"convertToInteractive('df-3742db10-6034-42cf-93fe-23f92b650e31')\"\n",
              "              title=\"Convert this dataframe to an interactive table.\"\n",
              "              style=\"display:none;\">\n",
              "        \n",
              "  <svg xmlns=\"http://www.w3.org/2000/svg\" height=\"24px\"viewBox=\"0 0 24 24\"\n",
              "       width=\"24px\">\n",
              "    <path d=\"M0 0h24v24H0V0z\" fill=\"none\"/>\n",
              "    <path d=\"M18.56 5.44l.94 2.06.94-2.06 2.06-.94-2.06-.94-.94-2.06-.94 2.06-2.06.94zm-11 1L8.5 8.5l.94-2.06 2.06-.94-2.06-.94L8.5 2.5l-.94 2.06-2.06.94zm10 10l.94 2.06.94-2.06 2.06-.94-2.06-.94-.94-2.06-.94 2.06-2.06.94z\"/><path d=\"M17.41 7.96l-1.37-1.37c-.4-.4-.92-.59-1.43-.59-.52 0-1.04.2-1.43.59L10.3 9.45l-7.72 7.72c-.78.78-.78 2.05 0 2.83L4 21.41c.39.39.9.59 1.41.59.51 0 1.02-.2 1.41-.59l7.78-7.78 2.81-2.81c.8-.78.8-2.07 0-2.86zM5.41 20L4 18.59l7.72-7.72 1.47 1.35L5.41 20z\"/>\n",
              "  </svg>\n",
              "      </button>\n",
              "      \n",
              "  <style>\n",
              "    .colab-df-container {\n",
              "      display:flex;\n",
              "      flex-wrap:wrap;\n",
              "      gap: 12px;\n",
              "    }\n",
              "\n",
              "    .colab-df-convert {\n",
              "      background-color: #E8F0FE;\n",
              "      border: none;\n",
              "      border-radius: 50%;\n",
              "      cursor: pointer;\n",
              "      display: none;\n",
              "      fill: #1967D2;\n",
              "      height: 32px;\n",
              "      padding: 0 0 0 0;\n",
              "      width: 32px;\n",
              "    }\n",
              "\n",
              "    .colab-df-convert:hover {\n",
              "      background-color: #E2EBFA;\n",
              "      box-shadow: 0px 1px 2px rgba(60, 64, 67, 0.3), 0px 1px 3px 1px rgba(60, 64, 67, 0.15);\n",
              "      fill: #174EA6;\n",
              "    }\n",
              "\n",
              "    [theme=dark] .colab-df-convert {\n",
              "      background-color: #3B4455;\n",
              "      fill: #D2E3FC;\n",
              "    }\n",
              "\n",
              "    [theme=dark] .colab-df-convert:hover {\n",
              "      background-color: #434B5C;\n",
              "      box-shadow: 0px 1px 3px 1px rgba(0, 0, 0, 0.15);\n",
              "      filter: drop-shadow(0px 1px 2px rgba(0, 0, 0, 0.3));\n",
              "      fill: #FFFFFF;\n",
              "    }\n",
              "  </style>\n",
              "\n",
              "      <script>\n",
              "        const buttonEl =\n",
              "          document.querySelector('#df-3742db10-6034-42cf-93fe-23f92b650e31 button.colab-df-convert');\n",
              "        buttonEl.style.display =\n",
              "          google.colab.kernel.accessAllowed ? 'block' : 'none';\n",
              "\n",
              "        async function convertToInteractive(key) {\n",
              "          const element = document.querySelector('#df-3742db10-6034-42cf-93fe-23f92b650e31');\n",
              "          const dataTable =\n",
              "            await google.colab.kernel.invokeFunction('convertToInteractive',\n",
              "                                                     [key], {});\n",
              "          if (!dataTable) return;\n",
              "\n",
              "          const docLinkHtml = 'Like what you see? Visit the ' +\n",
              "            '<a target=\"_blank\" href=https://colab.research.google.com/notebooks/data_table.ipynb>data table notebook</a>'\n",
              "            + ' to learn more about interactive tables.';\n",
              "          element.innerHTML = '';\n",
              "          dataTable['output_type'] = 'display_data';\n",
              "          await google.colab.output.renderOutput(dataTable, element);\n",
              "          const docLink = document.createElement('div');\n",
              "          docLink.innerHTML = docLinkHtml;\n",
              "          element.appendChild(docLink);\n",
              "        }\n",
              "      </script>\n",
              "    </div>\n",
              "  </div>\n",
              "  "
            ]
          },
          "metadata": {},
          "execution_count": 117
        }
      ]
    },
    {
      "cell_type": "code",
      "source": [
        "len(train_multiclass) / len(train)"
      ],
      "metadata": {
        "colab": {
          "base_uri": "https://localhost:8080/"
        },
        "id": "NnsWGeiQaRro",
        "outputId": "231464c9-5520-4790-e130-ec0119ed6214"
      },
      "execution_count": null,
      "outputs": [
        {
          "output_type": "execute_result",
          "data": {
            "text/plain": [
              "4.0"
            ]
          },
          "metadata": {},
          "execution_count": 118
        }
      ]
    },
    {
      "cell_type": "code",
      "source": [
        "train_multiclass['value'].value_counts()"
      ],
      "metadata": {
        "colab": {
          "base_uri": "https://localhost:8080/"
        },
        "id": "JHo6o4omacMA",
        "outputId": "3dd37849-20a8-4c18-f66a-247647b310f4"
      },
      "execution_count": null,
      "outputs": [
        {
          "output_type": "execute_result",
          "data": {
            "text/plain": [
              "0    70821\n",
              "1    23607\n",
              "Name: value, dtype: int64"
            ]
          },
          "metadata": {},
          "execution_count": 119
        }
      ]
    },
    {
      "cell_type": "code",
      "source": [
        "len(train)"
      ],
      "metadata": {
        "colab": {
          "base_uri": "https://localhost:8080/"
        },
        "id": "XvYTZ1MBbFkv",
        "outputId": "bdc73c47-a73b-4222-ecfa-ed87bece88cc"
      },
      "execution_count": null,
      "outputs": [
        {
          "output_type": "execute_result",
          "data": {
            "text/plain": [
              "23607"
            ]
          },
          "metadata": {},
          "execution_count": 120
        }
      ]
    },
    {
      "cell_type": "code",
      "source": [
        "val_multiclass = construct_multiclass_dataset(val,len(train))"
      ],
      "metadata": {
        "id": "6i3FaXAEbJm7"
      },
      "execution_count": null,
      "outputs": []
    },
    {
      "cell_type": "code",
      "source": [
        "len(val_multiclass) / len(val)"
      ],
      "metadata": {
        "colab": {
          "base_uri": "https://localhost:8080/"
        },
        "id": "-SvNQpNxbNuu",
        "outputId": "5d57899f-f77f-431f-df87-3c50199ab962"
      },
      "execution_count": null,
      "outputs": [
        {
          "output_type": "execute_result",
          "data": {
            "text/plain": [
              "4.0"
            ]
          },
          "metadata": {},
          "execution_count": 122
        }
      ]
    },
    {
      "cell_type": "markdown",
      "source": [
        "Опрдеделим множества полей"
      ],
      "metadata": {
        "id": "WwGAVFdMCYc0"
      }
    },
    {
      "cell_type": "code",
      "source": [
        "text_features = ['description']\n",
        "X = ['description','action','cute']\n",
        "y = ['value']\n",
        "cat_features = ['action', 'cute']\n",
        "group_ids = ['group_id']"
      ],
      "metadata": {
        "id": "U7g1KhX6bsVu"
      },
      "execution_count": null,
      "outputs": []
    },
    {
      "cell_type": "markdown",
      "source": [
        "Параметры модели"
      ],
      "metadata": {
        "id": "HqGJOKYHCcra"
      }
    },
    {
      "cell_type": "code",
      "source": [
        "params = {'verbose':100,\n",
        "          'loss_function': 'MultiClass',\n",
        "          'random_seed':42,\n",
        "          'learning_rate':0.3}"
      ],
      "metadata": {
        "id": "Xoii_Yoycr2u"
      },
      "execution_count": null,
      "outputs": []
    },
    {
      "cell_type": "code",
      "source": [
        "! pip install catboost"
      ],
      "metadata": {
        "colab": {
          "base_uri": "https://localhost:8080/"
        },
        "id": "qi48cB2ZfAzK",
        "outputId": "26e07f91-658f-4f74-9843-feafad64fa7f"
      },
      "execution_count": null,
      "outputs": [
        {
          "output_type": "stream",
          "name": "stdout",
          "text": [
            "Looking in indexes: https://pypi.org/simple, https://us-python.pkg.dev/colab-wheels/public/simple/\n",
            "Collecting catboost\n",
            "  Downloading catboost-1.2-cp310-cp310-manylinux2014_x86_64.whl (98.6 MB)\n",
            "\u001b[2K     \u001b[90m━━━━━━━━━━━━━━━━━━━━━━━━━━━━━━━━━━━━━━━━\u001b[0m \u001b[32m98.6/98.6 MB\u001b[0m \u001b[31m7.3 MB/s\u001b[0m eta \u001b[36m0:00:00\u001b[0m\n",
            "\u001b[?25hRequirement already satisfied: graphviz in /usr/local/lib/python3.10/dist-packages (from catboost) (0.20.1)\n",
            "Requirement already satisfied: matplotlib in /usr/local/lib/python3.10/dist-packages (from catboost) (3.7.1)\n",
            "Requirement already satisfied: numpy>=1.16.0 in /usr/local/lib/python3.10/dist-packages (from catboost) (1.22.4)\n",
            "Requirement already satisfied: pandas>=0.24 in /usr/local/lib/python3.10/dist-packages (from catboost) (1.5.3)\n",
            "Requirement already satisfied: scipy in /usr/local/lib/python3.10/dist-packages (from catboost) (1.10.1)\n",
            "Requirement already satisfied: plotly in /usr/local/lib/python3.10/dist-packages (from catboost) (5.13.1)\n",
            "Requirement already satisfied: six in /usr/local/lib/python3.10/dist-packages (from catboost) (1.16.0)\n",
            "Requirement already satisfied: python-dateutil>=2.8.1 in /usr/local/lib/python3.10/dist-packages (from pandas>=0.24->catboost) (2.8.2)\n",
            "Requirement already satisfied: pytz>=2020.1 in /usr/local/lib/python3.10/dist-packages (from pandas>=0.24->catboost) (2022.7.1)\n",
            "Requirement already satisfied: contourpy>=1.0.1 in /usr/local/lib/python3.10/dist-packages (from matplotlib->catboost) (1.1.0)\n",
            "Requirement already satisfied: cycler>=0.10 in /usr/local/lib/python3.10/dist-packages (from matplotlib->catboost) (0.11.0)\n",
            "Requirement already satisfied: fonttools>=4.22.0 in /usr/local/lib/python3.10/dist-packages (from matplotlib->catboost) (4.40.0)\n",
            "Requirement already satisfied: kiwisolver>=1.0.1 in /usr/local/lib/python3.10/dist-packages (from matplotlib->catboost) (1.4.4)\n",
            "Requirement already satisfied: packaging>=20.0 in /usr/local/lib/python3.10/dist-packages (from matplotlib->catboost) (23.1)\n",
            "Requirement already satisfied: pillow>=6.2.0 in /usr/local/lib/python3.10/dist-packages (from matplotlib->catboost) (8.4.0)\n",
            "Requirement already satisfied: pyparsing>=2.3.1 in /usr/local/lib/python3.10/dist-packages (from matplotlib->catboost) (3.1.0)\n",
            "Requirement already satisfied: tenacity>=6.2.0 in /usr/local/lib/python3.10/dist-packages (from plotly->catboost) (8.2.2)\n",
            "Installing collected packages: catboost\n",
            "Successfully installed catboost-1.2\n"
          ]
        }
      ]
    },
    {
      "cell_type": "markdown",
      "source": [
        "Пулы"
      ],
      "metadata": {
        "id": "lGPo1QU4Ce3B"
      }
    },
    {
      "cell_type": "code",
      "source": [
        "# Pool(ranking_matrix, ranking_labels, cat_features=final_cat_features, group_id = group_ids)\n",
        "\n",
        "from catboost import Pool\n",
        "\n",
        "train_data = Pool(data=train_multiclass[X],\n",
        "                  label=train_multiclass[y],\n",
        "                  text_features=text_features,\n",
        "                  cat_features=cat_features,\n",
        "                  group_id = train_multiclass[group_ids]\n",
        "                 )\n",
        "\n",
        "valid_data = Pool(data=val_multiclass[X],\n",
        "                  label=val_multiclass[y],\n",
        "                  text_features=text_features,\n",
        "                  cat_features=cat_features,\n",
        "                  group_id = val_multiclass[group_ids]\n",
        "                 )\n",
        "\n",
        "#test_data = Pool(data=test_multiclass[X],\n",
        "#                 label=test_multiclass[y],\n",
        "#                 text_features=text_features,\n",
        "#                 group_id = test_multiclass[group_ids]\n",
        "#                 )\n",
        "\n",
        "#train_full_data = Pool(data=train_full_multiclass[X],\n",
        "#                       label=train_full_multiclass[y],\n",
        "#                       text_features=text_features,\n",
        "#                       group_id = train_full_multiclass[group_ids]\n",
        "#                       )"
      ],
      "metadata": {
        "id": "7xhkIvw-bXO_"
      },
      "execution_count": null,
      "outputs": []
    },
    {
      "cell_type": "code",
      "source": [
        "from catboost import CatBoostClassifier"
      ],
      "metadata": {
        "id": "B5sTz8tJfacB"
      },
      "execution_count": null,
      "outputs": []
    },
    {
      "cell_type": "markdown",
      "source": [
        "Модель"
      ],
      "metadata": {
        "id": "YHVxZXUNCgfz"
      }
    },
    {
      "cell_type": "code",
      "source": [
        "model = CatBoostClassifier(**params)"
      ],
      "metadata": {
        "id": "Y_wJbroSfWRJ"
      },
      "execution_count": null,
      "outputs": []
    },
    {
      "cell_type": "markdown",
      "source": [
        "Обучение"
      ],
      "metadata": {
        "id": "mUgvxH3CCiKA"
      }
    },
    {
      "cell_type": "code",
      "source": [
        "model.fit(train_data,eval_set=valid_data)"
      ],
      "metadata": {
        "colab": {
          "base_uri": "https://localhost:8080/"
        },
        "id": "0prKlzutfMCR",
        "outputId": "a2e73808-fdbe-4003-d7a2-101c5abbec84"
      },
      "execution_count": null,
      "outputs": [
        {
          "output_type": "stream",
          "name": "stdout",
          "text": [
            "0:\tlearn: 0.5665034\ttest: 0.6022757\tbest: 0.6022757 (0)\ttotal: 919ms\tremaining: 15m 17s\n",
            "100:\tlearn: 0.3281150\ttest: 0.4262870\tbest: 0.4261677 (98)\ttotal: 1m 33s\tremaining: 13m 53s\n",
            "200:\tlearn: 0.3134106\ttest: 0.4157267\tbest: 0.4157267 (200)\ttotal: 3m 1s\tremaining: 12m 3s\n",
            "300:\tlearn: 0.3052862\ttest: 0.4128453\tbest: 0.4128388 (298)\ttotal: 4m 30s\tremaining: 10m 27s\n",
            "400:\tlearn: 0.2988715\ttest: 0.4111292\tbest: 0.4111292 (400)\ttotal: 5m 58s\tremaining: 8m 54s\n",
            "500:\tlearn: 0.2930701\ttest: 0.4097524\tbest: 0.4096377 (485)\ttotal: 7m 25s\tremaining: 7m 23s\n",
            "600:\tlearn: 0.2882598\ttest: 0.4092524\tbest: 0.4091652 (594)\ttotal: 8m 53s\tremaining: 5m 53s\n",
            "700:\tlearn: 0.2834757\ttest: 0.4084047\tbest: 0.4082712 (681)\ttotal: 10m 19s\tremaining: 4m 24s\n",
            "800:\tlearn: 0.2788392\ttest: 0.4076281\tbest: 0.4075879 (797)\ttotal: 11m 47s\tremaining: 2m 55s\n",
            "900:\tlearn: 0.2748283\ttest: 0.4073703\tbest: 0.4071453 (873)\ttotal: 13m 15s\tremaining: 1m 27s\n",
            "999:\tlearn: 0.2707616\ttest: 0.4065938\tbest: 0.4065550 (995)\ttotal: 14m 41s\tremaining: 0us\n",
            "\n",
            "bestTest = 0.4065550472\n",
            "bestIteration = 995\n",
            "\n",
            "Shrink model to first 996 iterations.\n"
          ]
        },
        {
          "output_type": "execute_result",
          "data": {
            "text/plain": [
              "<catboost.core.CatBoostClassifier at 0x7f4e49a0bee0>"
            ]
          },
          "metadata": {},
          "execution_count": 128
        }
      ]
    },
    {
      "cell_type": "markdown",
      "source": [
        "Оценим предсказания на val"
      ],
      "metadata": {
        "id": "qMXa-rI2CpZb"
      }
    },
    {
      "cell_type": "code",
      "source": [
        "val_multiclass['pred_value'] = model.predict_proba(val_multiclass[X])[:,1]"
      ],
      "metadata": {
        "id": "BI4YJvOkjUKZ"
      },
      "execution_count": null,
      "outputs": []
    },
    {
      "cell_type": "code",
      "source": [
        "from sklearn.metrics import f1_score\n",
        "from sklearn.metrics import precision_score\n",
        "from sklearn.metrics import recall_score\n",
        "from sklearn.metrics import roc_curve"
      ],
      "metadata": {
        "id": "85Js5K20iH43"
      },
      "execution_count": null,
      "outputs": []
    },
    {
      "cell_type": "code",
      "source": [
        "val_multiclass.head(20)"
      ],
      "metadata": {
        "colab": {
          "base_uri": "https://localhost:8080/",
          "height": 859
        },
        "id": "Ueepugc5iWZw",
        "outputId": "a8b624ef-e95b-4bbd-9671-478684d7a460"
      },
      "execution_count": null,
      "outputs": [
        {
          "output_type": "execute_result",
          "data": {
            "text/plain": [
              "     app_id                                        description  \\\n",
              "0    872180  Explore a fantastic world and see an enchantin...   \n",
              "1    872180  Explore a fantastic world and see an enchantin...   \n",
              "2    872180  Explore a fantastic world and see an enchantin...   \n",
              "3    872180  Explore a fantastic world and see an enchantin...   \n",
              "4   1595630  Underwater Life is an indie simulator game mad...   \n",
              "5   1595630  Underwater Life is an indie simulator game mad...   \n",
              "6   1595630  Underwater Life is an indie simulator game mad...   \n",
              "7   1595630  Underwater Life is an indie simulator game mad...   \n",
              "8    289600  Marauder, is a squad based and tactical 3D gam...   \n",
              "9    289600  Marauder, is a squad based and tactical 3D gam...   \n",
              "10   289600  Marauder, is a squad based and tactical 3D gam...   \n",
              "11   289600  Marauder, is a squad based and tactical 3D gam...   \n",
              "12   534570  Survival Kingdom is a turn-based, retro strate...   \n",
              "13   534570  Survival Kingdom is a turn-based, retro strate...   \n",
              "14   534570  Survival Kingdom is a turn-based, retro strate...   \n",
              "15   534570  Survival Kingdom is a turn-based, retro strate...   \n",
              "16   619490  You woke up in the middle of the night from th...   \n",
              "17   619490  You woke up in the middle of the night from th...   \n",
              "18   619490  You woke up in the middle of the night from th...   \n",
              "19   619490  You woke up in the middle of the night from th...   \n",
              "\n",
              "                                                 tags  action  cute  \\\n",
              "0                  [Casual, Indie, Adventure, Puzzle]       0     0   \n",
              "1                  [Casual, Indie, Adventure, Puzzle]       0     1   \n",
              "2                  [Casual, Indie, Adventure, Puzzle]       1     0   \n",
              "3                  [Casual, Indie, Adventure, Puzzle]       1     1   \n",
              "4   [Casual, Simulation, Adventure, Arcade, Underw...       0     0   \n",
              "5   [Casual, Simulation, Adventure, Arcade, Underw...       0     1   \n",
              "6   [Casual, Simulation, Adventure, Arcade, Underw...       1     0   \n",
              "7   [Casual, Simulation, Adventure, Arcade, Underw...       1     1   \n",
              "8   [RPG, Strategy, Tactical, Survival, Post-apoca...       0     0   \n",
              "9   [RPG, Strategy, Tactical, Survival, Post-apoca...       0     1   \n",
              "10  [RPG, Strategy, Tactical, Survival, Post-apoca...       1     0   \n",
              "11  [RPG, Strategy, Tactical, Survival, Post-apoca...       1     1   \n",
              "12                  [Strategy, Indie, Pixel Graphics]       0     0   \n",
              "13                  [Strategy, Indie, Pixel Graphics]       0     1   \n",
              "14                  [Strategy, Indie, Pixel Graphics]       1     0   \n",
              "15                  [Strategy, Indie, Pixel Graphics]       1     1   \n",
              "16                 [Indie, Action, Adventure, Horror]       0     0   \n",
              "17                 [Indie, Action, Adventure, Horror]       0     1   \n",
              "18                 [Indie, Action, Adventure, Horror]       1     0   \n",
              "19                 [Indie, Action, Adventure, Horror]       1     1   \n",
              "\n",
              "   action_cute  value  group_id  pred_value  \n",
              "0           00      1     23607    0.331606  \n",
              "1           00      0     23607    0.075211  \n",
              "2           00      0     23607    0.094289  \n",
              "3           00      0     23607    0.022784  \n",
              "4           01      0     23608    0.612540  \n",
              "5           01      1     23608    0.060310  \n",
              "6           01      0     23608    0.393551  \n",
              "7           01      0     23608    0.040263  \n",
              "8           00      1     23609    0.471858  \n",
              "9           00      0     23609    0.024544  \n",
              "10          00      0     23609    0.140798  \n",
              "11          00      0     23609    0.005800  \n",
              "12          00      1     23610    0.641115  \n",
              "13          00      0     23610    0.018875  \n",
              "14          00      0     23610    0.402787  \n",
              "15          00      0     23610    0.008697  \n",
              "16          10      0     23611    0.460880  \n",
              "17          10      0     23611    0.037751  \n",
              "18          10      1     23611    0.258431  \n",
              "19          10      0     23611    0.018309  "
            ],
            "text/html": [
              "\n",
              "  <div id=\"df-db45725f-7479-4907-85aa-dd3445b94234\">\n",
              "    <div class=\"colab-df-container\">\n",
              "      <div>\n",
              "<style scoped>\n",
              "    .dataframe tbody tr th:only-of-type {\n",
              "        vertical-align: middle;\n",
              "    }\n",
              "\n",
              "    .dataframe tbody tr th {\n",
              "        vertical-align: top;\n",
              "    }\n",
              "\n",
              "    .dataframe thead th {\n",
              "        text-align: right;\n",
              "    }\n",
              "</style>\n",
              "<table border=\"1\" class=\"dataframe\">\n",
              "  <thead>\n",
              "    <tr style=\"text-align: right;\">\n",
              "      <th></th>\n",
              "      <th>app_id</th>\n",
              "      <th>description</th>\n",
              "      <th>tags</th>\n",
              "      <th>action</th>\n",
              "      <th>cute</th>\n",
              "      <th>action_cute</th>\n",
              "      <th>value</th>\n",
              "      <th>group_id</th>\n",
              "      <th>pred_value</th>\n",
              "    </tr>\n",
              "  </thead>\n",
              "  <tbody>\n",
              "    <tr>\n",
              "      <th>0</th>\n",
              "      <td>872180</td>\n",
              "      <td>Explore a fantastic world and see an enchantin...</td>\n",
              "      <td>[Casual, Indie, Adventure, Puzzle]</td>\n",
              "      <td>0</td>\n",
              "      <td>0</td>\n",
              "      <td>00</td>\n",
              "      <td>1</td>\n",
              "      <td>23607</td>\n",
              "      <td>0.331606</td>\n",
              "    </tr>\n",
              "    <tr>\n",
              "      <th>1</th>\n",
              "      <td>872180</td>\n",
              "      <td>Explore a fantastic world and see an enchantin...</td>\n",
              "      <td>[Casual, Indie, Adventure, Puzzle]</td>\n",
              "      <td>0</td>\n",
              "      <td>1</td>\n",
              "      <td>00</td>\n",
              "      <td>0</td>\n",
              "      <td>23607</td>\n",
              "      <td>0.075211</td>\n",
              "    </tr>\n",
              "    <tr>\n",
              "      <th>2</th>\n",
              "      <td>872180</td>\n",
              "      <td>Explore a fantastic world and see an enchantin...</td>\n",
              "      <td>[Casual, Indie, Adventure, Puzzle]</td>\n",
              "      <td>1</td>\n",
              "      <td>0</td>\n",
              "      <td>00</td>\n",
              "      <td>0</td>\n",
              "      <td>23607</td>\n",
              "      <td>0.094289</td>\n",
              "    </tr>\n",
              "    <tr>\n",
              "      <th>3</th>\n",
              "      <td>872180</td>\n",
              "      <td>Explore a fantastic world and see an enchantin...</td>\n",
              "      <td>[Casual, Indie, Adventure, Puzzle]</td>\n",
              "      <td>1</td>\n",
              "      <td>1</td>\n",
              "      <td>00</td>\n",
              "      <td>0</td>\n",
              "      <td>23607</td>\n",
              "      <td>0.022784</td>\n",
              "    </tr>\n",
              "    <tr>\n",
              "      <th>4</th>\n",
              "      <td>1595630</td>\n",
              "      <td>Underwater Life is an indie simulator game mad...</td>\n",
              "      <td>[Casual, Simulation, Adventure, Arcade, Underw...</td>\n",
              "      <td>0</td>\n",
              "      <td>0</td>\n",
              "      <td>01</td>\n",
              "      <td>0</td>\n",
              "      <td>23608</td>\n",
              "      <td>0.612540</td>\n",
              "    </tr>\n",
              "    <tr>\n",
              "      <th>5</th>\n",
              "      <td>1595630</td>\n",
              "      <td>Underwater Life is an indie simulator game mad...</td>\n",
              "      <td>[Casual, Simulation, Adventure, Arcade, Underw...</td>\n",
              "      <td>0</td>\n",
              "      <td>1</td>\n",
              "      <td>01</td>\n",
              "      <td>1</td>\n",
              "      <td>23608</td>\n",
              "      <td>0.060310</td>\n",
              "    </tr>\n",
              "    <tr>\n",
              "      <th>6</th>\n",
              "      <td>1595630</td>\n",
              "      <td>Underwater Life is an indie simulator game mad...</td>\n",
              "      <td>[Casual, Simulation, Adventure, Arcade, Underw...</td>\n",
              "      <td>1</td>\n",
              "      <td>0</td>\n",
              "      <td>01</td>\n",
              "      <td>0</td>\n",
              "      <td>23608</td>\n",
              "      <td>0.393551</td>\n",
              "    </tr>\n",
              "    <tr>\n",
              "      <th>7</th>\n",
              "      <td>1595630</td>\n",
              "      <td>Underwater Life is an indie simulator game mad...</td>\n",
              "      <td>[Casual, Simulation, Adventure, Arcade, Underw...</td>\n",
              "      <td>1</td>\n",
              "      <td>1</td>\n",
              "      <td>01</td>\n",
              "      <td>0</td>\n",
              "      <td>23608</td>\n",
              "      <td>0.040263</td>\n",
              "    </tr>\n",
              "    <tr>\n",
              "      <th>8</th>\n",
              "      <td>289600</td>\n",
              "      <td>Marauder, is a squad based and tactical 3D gam...</td>\n",
              "      <td>[RPG, Strategy, Tactical, Survival, Post-apoca...</td>\n",
              "      <td>0</td>\n",
              "      <td>0</td>\n",
              "      <td>00</td>\n",
              "      <td>1</td>\n",
              "      <td>23609</td>\n",
              "      <td>0.471858</td>\n",
              "    </tr>\n",
              "    <tr>\n",
              "      <th>9</th>\n",
              "      <td>289600</td>\n",
              "      <td>Marauder, is a squad based and tactical 3D gam...</td>\n",
              "      <td>[RPG, Strategy, Tactical, Survival, Post-apoca...</td>\n",
              "      <td>0</td>\n",
              "      <td>1</td>\n",
              "      <td>00</td>\n",
              "      <td>0</td>\n",
              "      <td>23609</td>\n",
              "      <td>0.024544</td>\n",
              "    </tr>\n",
              "    <tr>\n",
              "      <th>10</th>\n",
              "      <td>289600</td>\n",
              "      <td>Marauder, is a squad based and tactical 3D gam...</td>\n",
              "      <td>[RPG, Strategy, Tactical, Survival, Post-apoca...</td>\n",
              "      <td>1</td>\n",
              "      <td>0</td>\n",
              "      <td>00</td>\n",
              "      <td>0</td>\n",
              "      <td>23609</td>\n",
              "      <td>0.140798</td>\n",
              "    </tr>\n",
              "    <tr>\n",
              "      <th>11</th>\n",
              "      <td>289600</td>\n",
              "      <td>Marauder, is a squad based and tactical 3D gam...</td>\n",
              "      <td>[RPG, Strategy, Tactical, Survival, Post-apoca...</td>\n",
              "      <td>1</td>\n",
              "      <td>1</td>\n",
              "      <td>00</td>\n",
              "      <td>0</td>\n",
              "      <td>23609</td>\n",
              "      <td>0.005800</td>\n",
              "    </tr>\n",
              "    <tr>\n",
              "      <th>12</th>\n",
              "      <td>534570</td>\n",
              "      <td>Survival Kingdom is a turn-based, retro strate...</td>\n",
              "      <td>[Strategy, Indie, Pixel Graphics]</td>\n",
              "      <td>0</td>\n",
              "      <td>0</td>\n",
              "      <td>00</td>\n",
              "      <td>1</td>\n",
              "      <td>23610</td>\n",
              "      <td>0.641115</td>\n",
              "    </tr>\n",
              "    <tr>\n",
              "      <th>13</th>\n",
              "      <td>534570</td>\n",
              "      <td>Survival Kingdom is a turn-based, retro strate...</td>\n",
              "      <td>[Strategy, Indie, Pixel Graphics]</td>\n",
              "      <td>0</td>\n",
              "      <td>1</td>\n",
              "      <td>00</td>\n",
              "      <td>0</td>\n",
              "      <td>23610</td>\n",
              "      <td>0.018875</td>\n",
              "    </tr>\n",
              "    <tr>\n",
              "      <th>14</th>\n",
              "      <td>534570</td>\n",
              "      <td>Survival Kingdom is a turn-based, retro strate...</td>\n",
              "      <td>[Strategy, Indie, Pixel Graphics]</td>\n",
              "      <td>1</td>\n",
              "      <td>0</td>\n",
              "      <td>00</td>\n",
              "      <td>0</td>\n",
              "      <td>23610</td>\n",
              "      <td>0.402787</td>\n",
              "    </tr>\n",
              "    <tr>\n",
              "      <th>15</th>\n",
              "      <td>534570</td>\n",
              "      <td>Survival Kingdom is a turn-based, retro strate...</td>\n",
              "      <td>[Strategy, Indie, Pixel Graphics]</td>\n",
              "      <td>1</td>\n",
              "      <td>1</td>\n",
              "      <td>00</td>\n",
              "      <td>0</td>\n",
              "      <td>23610</td>\n",
              "      <td>0.008697</td>\n",
              "    </tr>\n",
              "    <tr>\n",
              "      <th>16</th>\n",
              "      <td>619490</td>\n",
              "      <td>You woke up in the middle of the night from th...</td>\n",
              "      <td>[Indie, Action, Adventure, Horror]</td>\n",
              "      <td>0</td>\n",
              "      <td>0</td>\n",
              "      <td>10</td>\n",
              "      <td>0</td>\n",
              "      <td>23611</td>\n",
              "      <td>0.460880</td>\n",
              "    </tr>\n",
              "    <tr>\n",
              "      <th>17</th>\n",
              "      <td>619490</td>\n",
              "      <td>You woke up in the middle of the night from th...</td>\n",
              "      <td>[Indie, Action, Adventure, Horror]</td>\n",
              "      <td>0</td>\n",
              "      <td>1</td>\n",
              "      <td>10</td>\n",
              "      <td>0</td>\n",
              "      <td>23611</td>\n",
              "      <td>0.037751</td>\n",
              "    </tr>\n",
              "    <tr>\n",
              "      <th>18</th>\n",
              "      <td>619490</td>\n",
              "      <td>You woke up in the middle of the night from th...</td>\n",
              "      <td>[Indie, Action, Adventure, Horror]</td>\n",
              "      <td>1</td>\n",
              "      <td>0</td>\n",
              "      <td>10</td>\n",
              "      <td>1</td>\n",
              "      <td>23611</td>\n",
              "      <td>0.258431</td>\n",
              "    </tr>\n",
              "    <tr>\n",
              "      <th>19</th>\n",
              "      <td>619490</td>\n",
              "      <td>You woke up in the middle of the night from th...</td>\n",
              "      <td>[Indie, Action, Adventure, Horror]</td>\n",
              "      <td>1</td>\n",
              "      <td>1</td>\n",
              "      <td>10</td>\n",
              "      <td>0</td>\n",
              "      <td>23611</td>\n",
              "      <td>0.018309</td>\n",
              "    </tr>\n",
              "  </tbody>\n",
              "</table>\n",
              "</div>\n",
              "      <button class=\"colab-df-convert\" onclick=\"convertToInteractive('df-db45725f-7479-4907-85aa-dd3445b94234')\"\n",
              "              title=\"Convert this dataframe to an interactive table.\"\n",
              "              style=\"display:none;\">\n",
              "        \n",
              "  <svg xmlns=\"http://www.w3.org/2000/svg\" height=\"24px\"viewBox=\"0 0 24 24\"\n",
              "       width=\"24px\">\n",
              "    <path d=\"M0 0h24v24H0V0z\" fill=\"none\"/>\n",
              "    <path d=\"M18.56 5.44l.94 2.06.94-2.06 2.06-.94-2.06-.94-.94-2.06-.94 2.06-2.06.94zm-11 1L8.5 8.5l.94-2.06 2.06-.94-2.06-.94L8.5 2.5l-.94 2.06-2.06.94zm10 10l.94 2.06.94-2.06 2.06-.94-2.06-.94-.94-2.06-.94 2.06-2.06.94z\"/><path d=\"M17.41 7.96l-1.37-1.37c-.4-.4-.92-.59-1.43-.59-.52 0-1.04.2-1.43.59L10.3 9.45l-7.72 7.72c-.78.78-.78 2.05 0 2.83L4 21.41c.39.39.9.59 1.41.59.51 0 1.02-.2 1.41-.59l7.78-7.78 2.81-2.81c.8-.78.8-2.07 0-2.86zM5.41 20L4 18.59l7.72-7.72 1.47 1.35L5.41 20z\"/>\n",
              "  </svg>\n",
              "      </button>\n",
              "      \n",
              "  <style>\n",
              "    .colab-df-container {\n",
              "      display:flex;\n",
              "      flex-wrap:wrap;\n",
              "      gap: 12px;\n",
              "    }\n",
              "\n",
              "    .colab-df-convert {\n",
              "      background-color: #E8F0FE;\n",
              "      border: none;\n",
              "      border-radius: 50%;\n",
              "      cursor: pointer;\n",
              "      display: none;\n",
              "      fill: #1967D2;\n",
              "      height: 32px;\n",
              "      padding: 0 0 0 0;\n",
              "      width: 32px;\n",
              "    }\n",
              "\n",
              "    .colab-df-convert:hover {\n",
              "      background-color: #E2EBFA;\n",
              "      box-shadow: 0px 1px 2px rgba(60, 64, 67, 0.3), 0px 1px 3px 1px rgba(60, 64, 67, 0.15);\n",
              "      fill: #174EA6;\n",
              "    }\n",
              "\n",
              "    [theme=dark] .colab-df-convert {\n",
              "      background-color: #3B4455;\n",
              "      fill: #D2E3FC;\n",
              "    }\n",
              "\n",
              "    [theme=dark] .colab-df-convert:hover {\n",
              "      background-color: #434B5C;\n",
              "      box-shadow: 0px 1px 3px 1px rgba(0, 0, 0, 0.15);\n",
              "      filter: drop-shadow(0px 1px 2px rgba(0, 0, 0, 0.3));\n",
              "      fill: #FFFFFF;\n",
              "    }\n",
              "  </style>\n",
              "\n",
              "      <script>\n",
              "        const buttonEl =\n",
              "          document.querySelector('#df-db45725f-7479-4907-85aa-dd3445b94234 button.colab-df-convert');\n",
              "        buttonEl.style.display =\n",
              "          google.colab.kernel.accessAllowed ? 'block' : 'none';\n",
              "\n",
              "        async function convertToInteractive(key) {\n",
              "          const element = document.querySelector('#df-db45725f-7479-4907-85aa-dd3445b94234');\n",
              "          const dataTable =\n",
              "            await google.colab.kernel.invokeFunction('convertToInteractive',\n",
              "                                                     [key], {});\n",
              "          if (!dataTable) return;\n",
              "\n",
              "          const docLinkHtml = 'Like what you see? Visit the ' +\n",
              "            '<a target=\"_blank\" href=https://colab.research.google.com/notebooks/data_table.ipynb>data table notebook</a>'\n",
              "            + ' to learn more about interactive tables.';\n",
              "          element.innerHTML = '';\n",
              "          dataTable['output_type'] = 'display_data';\n",
              "          await google.colab.output.renderOutput(dataTable, element);\n",
              "          const docLink = document.createElement('div');\n",
              "          docLink.innerHTML = docLinkHtml;\n",
              "          element.appendChild(docLink);\n",
              "        }\n",
              "      </script>\n",
              "    </div>\n",
              "  </div>\n",
              "  "
            ]
          },
          "metadata": {},
          "execution_count": 131
        }
      ]
    },
    {
      "cell_type": "code",
      "source": [
        "fprs, tprs, thrs = roc_curve(val_multiclass['value'],val_multiclass['pred_value'])"
      ],
      "metadata": {
        "id": "weqSF17siKDA"
      },
      "execution_count": null,
      "outputs": []
    },
    {
      "cell_type": "code",
      "source": [
        "roc = pd.DataFrame({'fpr':fprs,'tpr':tprs,'thr':thrs})"
      ],
      "metadata": {
        "id": "SEyTmhtTj8fC"
      },
      "execution_count": null,
      "outputs": []
    },
    {
      "cell_type": "markdown",
      "source": [
        "Roc Auc curve"
      ],
      "metadata": {
        "id": "XBrc10EXCtBh"
      }
    },
    {
      "cell_type": "code",
      "source": [
        "roc.set_index('fpr')['tpr'].plot()"
      ],
      "metadata": {
        "id": "mrZkMm8Mj9w5",
        "outputId": "36f38f1d-ba78-4cfa-fc3f-b09b5ba8aaa1",
        "colab": {
          "base_uri": "https://localhost:8080/",
          "height": 466
        }
      },
      "execution_count": null,
      "outputs": [
        {
          "output_type": "execute_result",
          "data": {
            "text/plain": [
              "<Axes: xlabel='fpr'>"
            ]
          },
          "metadata": {},
          "execution_count": 134
        },
        {
          "output_type": "display_data",
          "data": {
            "text/plain": [
              "<Figure size 640x480 with 1 Axes>"
            ],
            "image/png": "[encoded data removed]"
          },
          "metadata": {}
        }
      ]
    },
    {
      "cell_type": "markdown",
      "source": [
        "На параметрах полученных на train обучим train+val"
      ],
      "metadata": {
        "id": "LgS5e69uC09M"
      }
    },
    {
      "cell_type": "code",
      "source": [
        "params = {'iterations': 996,\n",
        "          'verbose':100,\n",
        "          'loss_function': 'MultiClass',\n",
        "          'random_seed':42,\n",
        "          'learning_rate':0.3}"
      ],
      "metadata": {
        "id": "oyQygMATpKgo"
      },
      "execution_count": null,
      "outputs": []
    },
    {
      "cell_type": "code",
      "source": [
        "train_full_multiclass = construct_multiclass_dataset(train_full,0)"
      ],
      "metadata": {
        "id": "6zxFVlRspbkR"
      },
      "execution_count": null,
      "outputs": []
    },
    {
      "cell_type": "code",
      "source": [
        "train_full_data = Pool(data=train_full_multiclass[X],\n",
        "                       label=train_full_multiclass[y],\n",
        "                       text_features=text_features,\n",
        "                       group_id = train_full_multiclass[group_ids]\n",
        "                       )"
      ],
      "metadata": {
        "id": "GYn4clgZpWNX"
      },
      "execution_count": null,
      "outputs": []
    },
    {
      "cell_type": "code",
      "source": [
        "model = CatBoostClassifier(**params)"
      ],
      "metadata": {
        "id": "BYyZLCXMpwRW"
      },
      "execution_count": null,
      "outputs": []
    },
    {
      "cell_type": "code",
      "source": [
        "model.fit(train_full_data)"
      ],
      "metadata": {
        "colab": {
          "base_uri": "https://localhost:8080/"
        },
        "id": "0oZA1G8hpuKt",
        "outputId": "b0f1ad8f-5c9e-4b4c-8d07-9f5593f26fc7"
      },
      "execution_count": null,
      "outputs": [
        {
          "output_type": "stream",
          "name": "stdout",
          "text": [
            "0:\tlearn: 0.5418438\ttotal: 1.13s\tremaining: 18m 45s\n",
            "100:\tlearn: 0.2398747\ttotal: 1m 50s\tremaining: 16m 22s\n",
            "200:\tlearn: 0.2294974\ttotal: 3m 33s\tremaining: 14m 5s\n",
            "300:\tlearn: 0.2220152\ttotal: 5m 16s\tremaining: 12m 9s\n",
            "400:\tlearn: 0.2158631\ttotal: 6m 56s\tremaining: 10m 17s\n",
            "500:\tlearn: 0.2109956\ttotal: 8m 37s\tremaining: 8m 31s\n",
            "600:\tlearn: 0.2070628\ttotal: 10m 18s\tremaining: 6m 46s\n",
            "700:\tlearn: 0.2031805\ttotal: 11m 57s\tremaining: 5m 1s\n",
            "800:\tlearn: 0.1996571\ttotal: 13m 35s\tremaining: 3m 18s\n",
            "900:\tlearn: 0.1963404\ttotal: 15m 14s\tremaining: 1m 36s\n",
            "995:\tlearn: 0.1933302\ttotal: 16m 49s\tremaining: 0us\n"
          ]
        },
        {
          "output_type": "execute_result",
          "data": {
            "text/plain": [
              "<catboost.core.CatBoostClassifier at 0x7f4e49a1bac0>"
            ]
          },
          "metadata": {},
          "execution_count": 141
        }
      ]
    },
    {
      "cell_type": "markdown",
      "source": [
        "Предсказания на test"
      ],
      "metadata": {
        "id": "vJm3kL0PC9zk"
      }
    },
    {
      "cell_type": "code",
      "source": [
        "test_multiclass = construct_multiclass_dataset(test, len(train_full))"
      ],
      "metadata": {
        "id": "25vasSEUqTEr"
      },
      "execution_count": null,
      "outputs": []
    },
    {
      "cell_type": "code",
      "source": [
        "test_multiclass['pred_value'] = model.predict_proba(test_multiclass[X])[:,1]"
      ],
      "metadata": {
        "id": "wMtqml6lqbqm"
      },
      "execution_count": null,
      "outputs": []
    },
    {
      "cell_type": "code",
      "source": [
        "fprs, tprs, thrs = roc_curve(test_multiclass['value'],test_multiclass['pred_value'])"
      ],
      "metadata": {
        "id": "p-EYHtscqbxQ"
      },
      "execution_count": null,
      "outputs": []
    },
    {
      "cell_type": "code",
      "source": [
        "roc = pd.DataFrame({'fpr':fprs,'tpr':tprs,'thr':thrs})"
      ],
      "metadata": {
        "id": "qayTXd2fqlTV"
      },
      "execution_count": null,
      "outputs": []
    },
    {
      "cell_type": "markdown",
      "source": [
        "Roc Auc curve"
      ],
      "metadata": {
        "id": "dE_dHpA5DDDt"
      }
    },
    {
      "cell_type": "code",
      "source": [
        "roc.set_index('fpr')['tpr'].plot()"
      ],
      "metadata": {
        "colab": {
          "base_uri": "https://localhost:8080/",
          "height": 466
        },
        "id": "sIF-l2mjqmWW",
        "outputId": "61caa4c2-5961-4f8a-9c2d-98fad2411dbd"
      },
      "execution_count": null,
      "outputs": [
        {
          "output_type": "execute_result",
          "data": {
            "text/plain": [
              "<Axes: xlabel='fpr'>"
            ]
          },
          "metadata": {},
          "execution_count": 146
        },
        {
          "output_type": "display_data",
          "data": {
            "text/plain": [
              "<Figure size 640x480 with 1 Axes>"
            ],
            "image/png": "[encoded data removed]"
          },
          "metadata": {}
        }
      ]
    },
    {
      "cell_type": "markdown",
      "source": [
        "Выберем оптимальный порог"
      ],
      "metadata": {
        "id": "Sk1G2kxZDFXy"
      }
    },
    {
      "cell_type": "code",
      "source": [
        "thrs = [0] + list(test_multiclass['pred_value'].unique())"
      ],
      "metadata": {
        "id": "BzN_RYVJoxHg"
      },
      "execution_count": null,
      "outputs": []
    },
    {
      "cell_type": "code",
      "source": [
        "from tqdm.notebook import tqdm"
      ],
      "metadata": {
        "id": "2bVYDiWFo3Gp"
      },
      "execution_count": null,
      "outputs": []
    },
    {
      "cell_type": "code",
      "source": [
        "result = []\n",
        "for thr in tqdm(thrs):\n",
        "\ttest_multiclass['pred_value_thr'] = (test_multiclass['pred_value'] > thr) * 1\n",
        "\tresult.append((thr,\n",
        "\t\t             f1_score(test_multiclass['value'],test_multiclass['pred_value_thr'])))"
      ],
      "metadata": {
        "colab": {
          "base_uri": "https://localhost:8080/",
          "height": 49,
          "referenced_widgets": [
            "9da59a1e016c471bb5c22d2bf29690da",
            "95651140ac4f4c95a8b0d743a012b506",
            "d26c075284a548e4ba9df8b39cd5d2ec",
            "3d5dba4b062e4a8e8570caadaf2b0a85",
            "de63a1edc2234eb19ab43e2169e74dde",
            "e8cc255c1f8d48d5aceddd80e21239df",
            "1cecc30f605646d585cf43563242784e",
            "f575d5992349414c8a87e6546a7510ef",
            "959151783b8c4cf189f3ef0ea137f226",
            "f6f737fa75034c869d9adc0e13e54a35",
            "36c594cebbcc46ec9dad662e43b17b0c"
          ]
        },
        "id": "P335UTsro7ZJ",
        "outputId": "c270cfbc-bbb8-4d5d-aca9-422fc64c1dea"
      },
      "execution_count": null,
      "outputs": [
        {
          "output_type": "display_data",
          "data": {
            "text/plain": [
              "  0%|          | 0/30805 [00:00<?, ?it/s]"
            ],
            "application/vnd.jupyter.widget-view+json": {
              "version_major": 2,
              "version_minor": 0,
              "model_id": "9da59a1e016c471bb5c22d2bf29690da"
            }
          },
          "metadata": {}
        }
      ]
    },
    {
      "cell_type": "code",
      "source": [
        "t = pd.DataFrame(result,columns=['thr','f1'])"
      ],
      "metadata": {
        "id": "u_DYZ2Qyo_aC"
      },
      "execution_count": null,
      "outputs": []
    },
    {
      "cell_type": "code",
      "source": [
        "t[t['f1'] == t['f1'].max()]"
      ],
      "metadata": {
        "colab": {
          "base_uri": "https://localhost:8080/",
          "height": 80
        },
        "id": "iSiNTbIKpBYI",
        "outputId": "07d0fb60-bdd4-4428-f82d-ca6335096371"
      },
      "execution_count": null,
      "outputs": [
        {
          "output_type": "execute_result",
          "data": {
            "text/plain": [
              "            thr        f1\n",
              "24037  0.360307  0.589433"
            ],
            "text/html": [
              "\n",
              "  <div id=\"df-19449f4a-69a1-4825-9de4-4d37ee533b26\">\n",
              "    <div class=\"colab-df-container\">\n",
              "      <div>\n",
              "<style scoped>\n",
              "    .dataframe tbody tr th:only-of-type {\n",
              "        vertical-align: middle;\n",
              "    }\n",
              "\n",
              "    .dataframe tbody tr th {\n",
              "        vertical-align: top;\n",
              "    }\n",
              "\n",
              "    .dataframe thead th {\n",
              "        text-align: right;\n",
              "    }\n",
              "</style>\n",
              "<table border=\"1\" class=\"dataframe\">\n",
              "  <thead>\n",
              "    <tr style=\"text-align: right;\">\n",
              "      <th></th>\n",
              "      <th>thr</th>\n",
              "      <th>f1</th>\n",
              "    </tr>\n",
              "  </thead>\n",
              "  <tbody>\n",
              "    <tr>\n",
              "      <th>24037</th>\n",
              "      <td>0.360307</td>\n",
              "      <td>0.589433</td>\n",
              "    </tr>\n",
              "  </tbody>\n",
              "</table>\n",
              "</div>\n",
              "      <button class=\"colab-df-convert\" onclick=\"convertToInteractive('df-19449f4a-69a1-4825-9de4-4d37ee533b26')\"\n",
              "              title=\"Convert this dataframe to an interactive table.\"\n",
              "              style=\"display:none;\">\n",
              "        \n",
              "  <svg xmlns=\"http://www.w3.org/2000/svg\" height=\"24px\"viewBox=\"0 0 24 24\"\n",
              "       width=\"24px\">\n",
              "    <path d=\"M0 0h24v24H0V0z\" fill=\"none\"/>\n",
              "    <path d=\"M18.56 5.44l.94 2.06.94-2.06 2.06-.94-2.06-.94-.94-2.06-.94 2.06-2.06.94zm-11 1L8.5 8.5l.94-2.06 2.06-.94-2.06-.94L8.5 2.5l-.94 2.06-2.06.94zm10 10l.94 2.06.94-2.06 2.06-.94-2.06-.94-.94-2.06-.94 2.06-2.06.94z\"/><path d=\"M17.41 7.96l-1.37-1.37c-.4-.4-.92-.59-1.43-.59-.52 0-1.04.2-1.43.59L10.3 9.45l-7.72 7.72c-.78.78-.78 2.05 0 2.83L4 21.41c.39.39.9.59 1.41.59.51 0 1.02-.2 1.41-.59l7.78-7.78 2.81-2.81c.8-.78.8-2.07 0-2.86zM5.41 20L4 18.59l7.72-7.72 1.47 1.35L5.41 20z\"/>\n",
              "  </svg>\n",
              "      </button>\n",
              "      \n",
              "  <style>\n",
              "    .colab-df-container {\n",
              "      display:flex;\n",
              "      flex-wrap:wrap;\n",
              "      gap: 12px;\n",
              "    }\n",
              "\n",
              "    .colab-df-convert {\n",
              "      background-color: #E8F0FE;\n",
              "      border: none;\n",
              "      border-radius: 50%;\n",
              "      cursor: pointer;\n",
              "      display: none;\n",
              "      fill: #1967D2;\n",
              "      height: 32px;\n",
              "      padding: 0 0 0 0;\n",
              "      width: 32px;\n",
              "    }\n",
              "\n",
              "    .colab-df-convert:hover {\n",
              "      background-color: #E2EBFA;\n",
              "      box-shadow: 0px 1px 2px rgba(60, 64, 67, 0.3), 0px 1px 3px 1px rgba(60, 64, 67, 0.15);\n",
              "      fill: #174EA6;\n",
              "    }\n",
              "\n",
              "    [theme=dark] .colab-df-convert {\n",
              "      background-color: #3B4455;\n",
              "      fill: #D2E3FC;\n",
              "    }\n",
              "\n",
              "    [theme=dark] .colab-df-convert:hover {\n",
              "      background-color: #434B5C;\n",
              "      box-shadow: 0px 1px 3px 1px rgba(0, 0, 0, 0.15);\n",
              "      filter: drop-shadow(0px 1px 2px rgba(0, 0, 0, 0.3));\n",
              "      fill: #FFFFFF;\n",
              "    }\n",
              "  </style>\n",
              "\n",
              "      <script>\n",
              "        const buttonEl =\n",
              "          document.querySelector('#df-19449f4a-69a1-4825-9de4-4d37ee533b26 button.colab-df-convert');\n",
              "        buttonEl.style.display =\n",
              "          google.colab.kernel.accessAllowed ? 'block' : 'none';\n",
              "\n",
              "        async function convertToInteractive(key) {\n",
              "          const element = document.querySelector('#df-19449f4a-69a1-4825-9de4-4d37ee533b26');\n",
              "          const dataTable =\n",
              "            await google.colab.kernel.invokeFunction('convertToInteractive',\n",
              "                                                     [key], {});\n",
              "          if (!dataTable) return;\n",
              "\n",
              "          const docLinkHtml = 'Like what you see? Visit the ' +\n",
              "            '<a target=\"_blank\" href=https://colab.research.google.com/notebooks/data_table.ipynb>data table notebook</a>'\n",
              "            + ' to learn more about interactive tables.';\n",
              "          element.innerHTML = '';\n",
              "          dataTable['output_type'] = 'display_data';\n",
              "          await google.colab.output.renderOutput(dataTable, element);\n",
              "          const docLink = document.createElement('div');\n",
              "          docLink.innerHTML = docLinkHtml;\n",
              "          element.appendChild(docLink);\n",
              "        }\n",
              "      </script>\n",
              "    </div>\n",
              "  </div>\n",
              "  "
            ]
          },
          "metadata": {},
          "execution_count": 151
        }
      ]
    },
    {
      "cell_type": "code",
      "source": [
        "test_multiclass['pred_value_res'] = (test_multiclass['pred_value'] > 0.338837) * 1"
      ],
      "metadata": {
        "id": "qQ_Zc1JIpMfJ"
      },
      "execution_count": null,
      "outputs": []
    },
    {
      "cell_type": "code",
      "source": [
        "from sklearn.metrics import classification_report"
      ],
      "metadata": {
        "id": "i-HL0EUBpP5B"
      },
      "execution_count": null,
      "outputs": []
    },
    {
      "cell_type": "markdown",
      "source": [
        "Результирующие метрики"
      ],
      "metadata": {
        "id": "oCF0BJkBDIE3"
      }
    },
    {
      "cell_type": "code",
      "source": [
        "print(classification_report(test_multiclass['value'],test_multiclass['pred_value_res']))"
      ],
      "metadata": {
        "colab": {
          "base_uri": "https://localhost:8080/"
        },
        "id": "vsreLK9CpRjH",
        "outputId": "44bc71e1-aff9-47a3-d69c-6f017315c38f"
      },
      "execution_count": null,
      "outputs": [
        {
          "output_type": "stream",
          "name": "stdout",
          "text": [
            "              precision    recall  f1-score   support\n",
            "\n",
            "           0       0.89      0.76      0.82     23610\n",
            "           1       0.50      0.71      0.59      7870\n",
            "\n",
            "    accuracy                           0.75     31480\n",
            "   macro avg       0.69      0.74      0.70     31480\n",
            "weighted avg       0.79      0.75      0.76     31480\n",
            "\n"
          ]
        }
      ]
    }
  ]
}