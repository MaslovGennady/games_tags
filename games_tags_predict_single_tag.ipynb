{
  "nbformat": 4,
  "nbformat_minor": 0,
  "metadata": {
    "colab": {
      "provenance": []
    },
    "kernelspec": {
      "name": "python3",
      "display_name": "Python 3"
    },
    "language_info": {
      "name": "python"
    },
    "widgets": {
      "application/vnd.jupyter.widget-state+json": {
        "e25261cf58e4475589306515fe684960": {
          "model_module": "@jupyter-widgets/controls",
          "model_name": "HBoxModel",
          "model_module_version": "1.5.0",
          "state": {
            "_dom_classes": [],
            "_model_module": "@jupyter-widgets/controls",
            "_model_module_version": "1.5.0",
            "_model_name": "HBoxModel",
            "_view_count": null,
            "_view_module": "@jupyter-widgets/controls",
            "_view_module_version": "1.5.0",
            "_view_name": "HBoxView",
            "box_style": "",
            "children": [
              "IPY_MODEL_afd317b83e484dc7a895abcea78309f7",
              "IPY_MODEL_0c58ce1b26394d09b13b4ceae50f740a",
              "IPY_MODEL_ff76a41ab141403ebc45385824edc2b5"
            ],
            "layout": "IPY_MODEL_6c5250369b7c40f69e21303ef1408f34"
          }
        },
        "afd317b83e484dc7a895abcea78309f7": {
          "model_module": "@jupyter-widgets/controls",
          "model_name": "HTMLModel",
          "model_module_version": "1.5.0",
          "state": {
            "_dom_classes": [],
            "_model_module": "@jupyter-widgets/controls",
            "_model_module_version": "1.5.0",
            "_model_name": "HTMLModel",
            "_view_count": null,
            "_view_module": "@jupyter-widgets/controls",
            "_view_module_version": "1.5.0",
            "_view_name": "HTMLView",
            "description": "",
            "description_tooltip": null,
            "layout": "IPY_MODEL_2ea03447cead4cf8b19aabd47b97d235",
            "placeholder": "​",
            "style": "IPY_MODEL_b15d0f025b3445c28402b0651f28be6b",
            "value": "100%"
          }
        },
        "0c58ce1b26394d09b13b4ceae50f740a": {
          "model_module": "@jupyter-widgets/controls",
          "model_name": "FloatProgressModel",
          "model_module_version": "1.5.0",
          "state": {
            "_dom_classes": [],
            "_model_module": "@jupyter-widgets/controls",
            "_model_module_version": "1.5.0",
            "_model_name": "FloatProgressModel",
            "_view_count": null,
            "_view_module": "@jupyter-widgets/controls",
            "_view_module_version": "1.5.0",
            "_view_name": "ProgressView",
            "bar_style": "success",
            "description": "",
            "description_tooltip": null,
            "layout": "IPY_MODEL_3bcb68ee247f4590b7b7777361afb5ad",
            "max": 7704,
            "min": 0,
            "orientation": "horizontal",
            "style": "IPY_MODEL_7e6ee6ac22ef492487d7fb7b89e87316",
            "value": 7704
          }
        },
        "ff76a41ab141403ebc45385824edc2b5": {
          "model_module": "@jupyter-widgets/controls",
          "model_name": "HTMLModel",
          "model_module_version": "1.5.0",
          "state": {
            "_dom_classes": [],
            "_model_module": "@jupyter-widgets/controls",
            "_model_module_version": "1.5.0",
            "_model_name": "HTMLModel",
            "_view_count": null,
            "_view_module": "@jupyter-widgets/controls",
            "_view_module_version": "1.5.0",
            "_view_name": "HTMLView",
            "description": "",
            "description_tooltip": null,
            "layout": "IPY_MODEL_9d0618e52a4f41e4bd3e269ccfa5187d",
            "placeholder": "​",
            "style": "IPY_MODEL_a3a1d33fa04b4bfeb72d0fd91c7cc503",
            "value": " 7704/7704 [00:36&lt;00:00, 254.89it/s]"
          }
        },
        "6c5250369b7c40f69e21303ef1408f34": {
          "model_module": "@jupyter-widgets/base",
          "model_name": "LayoutModel",
          "model_module_version": "1.2.0",
          "state": {
            "_model_module": "@jupyter-widgets/base",
            "_model_module_version": "1.2.0",
            "_model_name": "LayoutModel",
            "_view_count": null,
            "_view_module": "@jupyter-widgets/base",
            "_view_module_version": "1.2.0",
            "_view_name": "LayoutView",
            "align_content": null,
            "align_items": null,
            "align_self": null,
            "border": null,
            "bottom": null,
            "display": null,
            "flex": null,
            "flex_flow": null,
            "grid_area": null,
            "grid_auto_columns": null,
            "grid_auto_flow": null,
            "grid_auto_rows": null,
            "grid_column": null,
            "grid_gap": null,
            "grid_row": null,
            "grid_template_areas": null,
            "grid_template_columns": null,
            "grid_template_rows": null,
            "height": null,
            "justify_content": null,
            "justify_items": null,
            "left": null,
            "margin": null,
            "max_height": null,
            "max_width": null,
            "min_height": null,
            "min_width": null,
            "object_fit": null,
            "object_position": null,
            "order": null,
            "overflow": null,
            "overflow_x": null,
            "overflow_y": null,
            "padding": null,
            "right": null,
            "top": null,
            "visibility": null,
            "width": null
          }
        },
        "2ea03447cead4cf8b19aabd47b97d235": {
          "model_module": "@jupyter-widgets/base",
          "model_name": "LayoutModel",
          "model_module_version": "1.2.0",
          "state": {
            "_model_module": "@jupyter-widgets/base",
            "_model_module_version": "1.2.0",
            "_model_name": "LayoutModel",
            "_view_count": null,
            "_view_module": "@jupyter-widgets/base",
            "_view_module_version": "1.2.0",
            "_view_name": "LayoutView",
            "align_content": null,
            "align_items": null,
            "align_self": null,
            "border": null,
            "bottom": null,
            "display": null,
            "flex": null,
            "flex_flow": null,
            "grid_area": null,
            "grid_auto_columns": null,
            "grid_auto_flow": null,
            "grid_auto_rows": null,
            "grid_column": null,
            "grid_gap": null,
            "grid_row": null,
            "grid_template_areas": null,
            "grid_template_columns": null,
            "grid_template_rows": null,
            "height": null,
            "justify_content": null,
            "justify_items": null,
            "left": null,
            "margin": null,
            "max_height": null,
            "max_width": null,
            "min_height": null,
            "min_width": null,
            "object_fit": null,
            "object_position": null,
            "order": null,
            "overflow": null,
            "overflow_x": null,
            "overflow_y": null,
            "padding": null,
            "right": null,
            "top": null,
            "visibility": null,
            "width": null
          }
        },
        "b15d0f025b3445c28402b0651f28be6b": {
          "model_module": "@jupyter-widgets/controls",
          "model_name": "DescriptionStyleModel",
          "model_module_version": "1.5.0",
          "state": {
            "_model_module": "@jupyter-widgets/controls",
            "_model_module_version": "1.5.0",
            "_model_name": "DescriptionStyleModel",
            "_view_count": null,
            "_view_module": "@jupyter-widgets/base",
            "_view_module_version": "1.2.0",
            "_view_name": "StyleView",
            "description_width": ""
          }
        },
        "3bcb68ee247f4590b7b7777361afb5ad": {
          "model_module": "@jupyter-widgets/base",
          "model_name": "LayoutModel",
          "model_module_version": "1.2.0",
          "state": {
            "_model_module": "@jupyter-widgets/base",
            "_model_module_version": "1.2.0",
            "_model_name": "LayoutModel",
            "_view_count": null,
            "_view_module": "@jupyter-widgets/base",
            "_view_module_version": "1.2.0",
            "_view_name": "LayoutView",
            "align_content": null,
            "align_items": null,
            "align_self": null,
            "border": null,
            "bottom": null,
            "display": null,
            "flex": null,
            "flex_flow": null,
            "grid_area": null,
            "grid_auto_columns": null,
            "grid_auto_flow": null,
            "grid_auto_rows": null,
            "grid_column": null,
            "grid_gap": null,
            "grid_row": null,
            "grid_template_areas": null,
            "grid_template_columns": null,
            "grid_template_rows": null,
            "height": null,
            "justify_content": null,
            "justify_items": null,
            "left": null,
            "margin": null,
            "max_height": null,
            "max_width": null,
            "min_height": null,
            "min_width": null,
            "object_fit": null,
            "object_position": null,
            "order": null,
            "overflow": null,
            "overflow_x": null,
            "overflow_y": null,
            "padding": null,
            "right": null,
            "top": null,
            "visibility": null,
            "width": null
          }
        },
        "7e6ee6ac22ef492487d7fb7b89e87316": {
          "model_module": "@jupyter-widgets/controls",
          "model_name": "ProgressStyleModel",
          "model_module_version": "1.5.0",
          "state": {
            "_model_module": "@jupyter-widgets/controls",
            "_model_module_version": "1.5.0",
            "_model_name": "ProgressStyleModel",
            "_view_count": null,
            "_view_module": "@jupyter-widgets/base",
            "_view_module_version": "1.2.0",
            "_view_name": "StyleView",
            "bar_color": null,
            "description_width": ""
          }
        },
        "9d0618e52a4f41e4bd3e269ccfa5187d": {
          "model_module": "@jupyter-widgets/base",
          "model_name": "LayoutModel",
          "model_module_version": "1.2.0",
          "state": {
            "_model_module": "@jupyter-widgets/base",
            "_model_module_version": "1.2.0",
            "_model_name": "LayoutModel",
            "_view_count": null,
            "_view_module": "@jupyter-widgets/base",
            "_view_module_version": "1.2.0",
            "_view_name": "LayoutView",
            "align_content": null,
            "align_items": null,
            "align_self": null,
            "border": null,
            "bottom": null,
            "display": null,
            "flex": null,
            "flex_flow": null,
            "grid_area": null,
            "grid_auto_columns": null,
            "grid_auto_flow": null,
            "grid_auto_rows": null,
            "grid_column": null,
            "grid_gap": null,
            "grid_row": null,
            "grid_template_areas": null,
            "grid_template_columns": null,
            "grid_template_rows": null,
            "height": null,
            "justify_content": null,
            "justify_items": null,
            "left": null,
            "margin": null,
            "max_height": null,
            "max_width": null,
            "min_height": null,
            "min_width": null,
            "object_fit": null,
            "object_position": null,
            "order": null,
            "overflow": null,
            "overflow_x": null,
            "overflow_y": null,
            "padding": null,
            "right": null,
            "top": null,
            "visibility": null,
            "width": null
          }
        },
        "a3a1d33fa04b4bfeb72d0fd91c7cc503": {
          "model_module": "@jupyter-widgets/controls",
          "model_name": "DescriptionStyleModel",
          "model_module_version": "1.5.0",
          "state": {
            "_model_module": "@jupyter-widgets/controls",
            "_model_module_version": "1.5.0",
            "_model_name": "DescriptionStyleModel",
            "_view_count": null,
            "_view_module": "@jupyter-widgets/base",
            "_view_module_version": "1.2.0",
            "_view_name": "StyleView",
            "description_width": ""
          }
        }
      }
    }
  },
  "cells": [
    {
      "cell_type": "code",
      "execution_count": null,
      "metadata": {
        "id": "QAT6Huv3lQFB"
      },
      "outputs": [],
      "source": [
        "! gdown <id>"
      ]
    },
    {
      "cell_type": "code",
      "source": [
        "import pandas as pd"
      ],
      "metadata": {
        "id": "qhY1LN23lp5C"
      },
      "execution_count": null,
      "outputs": []
    },
    {
      "cell_type": "code",
      "source": [
        "df = pd.read_json('/content/games_metadata.json')"
      ],
      "metadata": {
        "id": "n_rpolWrljjp"
      },
      "execution_count": null,
      "outputs": []
    },
    {
      "cell_type": "code",
      "source": [
        "df"
      ],
      "metadata": {
        "colab": {
          "base_uri": "https://localhost:8080/",
          "height": 423
        },
        "id": "x46aLGRglswJ",
        "outputId": "c4469963-92f4-4482-cd05-cf1f9dca2126"
      },
      "execution_count": null,
      "outputs": [
        {
          "output_type": "execute_result",
          "data": {
            "text/plain": [
              "        app_id                                        description  \\\n",
              "0        10090  Call of Duty is back, redefining war like you'...   \n",
              "1        13500  Enter the dark underworld of Prince of Persia ...   \n",
              "2        22364                                                      \n",
              "3       113020  Monaco: What's Yours Is Mine is a single playe...   \n",
              "4       226560  Escape Dead Island is a Survival-Mystery adven...   \n",
              "...        ...                                                ...   \n",
              "48313  1803600  Gone Rogue is a tactical stealth game with RPG...   \n",
              "48314  1811990  Take on the elements in Wildfrost, a tactical ...   \n",
              "48315  1868120  Competitive multiplayer match with vehicles an...   \n",
              "48316  2206390  Feel the Neon in Your Bones! How would you lik...   \n",
              "48317  2330750  The epitome of a modern traditional roguelike:...   \n",
              "\n",
              "                                                    tags  \n",
              "0      [Zombies, World War II, FPS, Multiplayer, Acti...  \n",
              "1      [Action, Adventure, Parkour, Third Person, Gre...  \n",
              "2                                               [Action]  \n",
              "3      [Co-op, Stealth, Indie, Heist, Local Co-Op, St...  \n",
              "4      [Zombies, Adventure, Survival, Action, Third P...  \n",
              "...                                                  ...  \n",
              "48313  [Stealth, Action, Real Time Tactics, Isometric...  \n",
              "48314  [Card Battler, Difficult, Roguelike Deckbuilde...  \n",
              "48315  [FPS, Third-Person Shooter, Multiplayer, Shoot...  \n",
              "48316  [3D Platformer, Rhythm, Parkour, 3D, Atmospher...  \n",
              "48317  [Traditional Roguelike, Sandbox, RPG, Zombies,...  \n",
              "\n",
              "[48318 rows x 3 columns]"
            ],
            "text/html": [
              "\n",
              "  <div id=\"df-5ff61bcf-63fa-4aa4-bce9-e58c6e8b254f\">\n",
              "    <div class=\"colab-df-container\">\n",
              "      <div>\n",
              "<style scoped>\n",
              "    .dataframe tbody tr th:only-of-type {\n",
              "        vertical-align: middle;\n",
              "    }\n",
              "\n",
              "    .dataframe tbody tr th {\n",
              "        vertical-align: top;\n",
              "    }\n",
              "\n",
              "    .dataframe thead th {\n",
              "        text-align: right;\n",
              "    }\n",
              "</style>\n",
              "<table border=\"1\" class=\"dataframe\">\n",
              "  <thead>\n",
              "    <tr style=\"text-align: right;\">\n",
              "      <th></th>\n",
              "      <th>app_id</th>\n",
              "      <th>description</th>\n",
              "      <th>tags</th>\n",
              "    </tr>\n",
              "  </thead>\n",
              "  <tbody>\n",
              "    <tr>\n",
              "      <th>0</th>\n",
              "      <td>10090</td>\n",
              "      <td>Call of Duty is back, redefining war like you'...</td>\n",
              "      <td>[Zombies, World War II, FPS, Multiplayer, Acti...</td>\n",
              "    </tr>\n",
              "    <tr>\n",
              "      <th>1</th>\n",
              "      <td>13500</td>\n",
              "      <td>Enter the dark underworld of Prince of Persia ...</td>\n",
              "      <td>[Action, Adventure, Parkour, Third Person, Gre...</td>\n",
              "    </tr>\n",
              "    <tr>\n",
              "      <th>2</th>\n",
              "      <td>22364</td>\n",
              "      <td></td>\n",
              "      <td>[Action]</td>\n",
              "    </tr>\n",
              "    <tr>\n",
              "      <th>3</th>\n",
              "      <td>113020</td>\n",
              "      <td>Monaco: What's Yours Is Mine is a single playe...</td>\n",
              "      <td>[Co-op, Stealth, Indie, Heist, Local Co-Op, St...</td>\n",
              "    </tr>\n",
              "    <tr>\n",
              "      <th>4</th>\n",
              "      <td>226560</td>\n",
              "      <td>Escape Dead Island is a Survival-Mystery adven...</td>\n",
              "      <td>[Zombies, Adventure, Survival, Action, Third P...</td>\n",
              "    </tr>\n",
              "    <tr>\n",
              "      <th>...</th>\n",
              "      <td>...</td>\n",
              "      <td>...</td>\n",
              "      <td>...</td>\n",
              "    </tr>\n",
              "    <tr>\n",
              "      <th>48313</th>\n",
              "      <td>1803600</td>\n",
              "      <td>Gone Rogue is a tactical stealth game with RPG...</td>\n",
              "      <td>[Stealth, Action, Real Time Tactics, Isometric...</td>\n",
              "    </tr>\n",
              "    <tr>\n",
              "      <th>48314</th>\n",
              "      <td>1811990</td>\n",
              "      <td>Take on the elements in Wildfrost, a tactical ...</td>\n",
              "      <td>[Card Battler, Difficult, Roguelike Deckbuilde...</td>\n",
              "    </tr>\n",
              "    <tr>\n",
              "      <th>48315</th>\n",
              "      <td>1868120</td>\n",
              "      <td>Competitive multiplayer match with vehicles an...</td>\n",
              "      <td>[FPS, Third-Person Shooter, Multiplayer, Shoot...</td>\n",
              "    </tr>\n",
              "    <tr>\n",
              "      <th>48316</th>\n",
              "      <td>2206390</td>\n",
              "      <td>Feel the Neon in Your Bones! How would you lik...</td>\n",
              "      <td>[3D Platformer, Rhythm, Parkour, 3D, Atmospher...</td>\n",
              "    </tr>\n",
              "    <tr>\n",
              "      <th>48317</th>\n",
              "      <td>2330750</td>\n",
              "      <td>The epitome of a modern traditional roguelike:...</td>\n",
              "      <td>[Traditional Roguelike, Sandbox, RPG, Zombies,...</td>\n",
              "    </tr>\n",
              "  </tbody>\n",
              "</table>\n",
              "<p>48318 rows × 3 columns</p>\n",
              "</div>\n",
              "      <button class=\"colab-df-convert\" onclick=\"convertToInteractive('df-5ff61bcf-63fa-4aa4-bce9-e58c6e8b254f')\"\n",
              "              title=\"Convert this dataframe to an interactive table.\"\n",
              "              style=\"display:none;\">\n",
              "        \n",
              "  <svg xmlns=\"http://www.w3.org/2000/svg\" height=\"24px\"viewBox=\"0 0 24 24\"\n",
              "       width=\"24px\">\n",
              "    <path d=\"M0 0h24v24H0V0z\" fill=\"none\"/>\n",
              "    <path d=\"M18.56 5.44l.94 2.06.94-2.06 2.06-.94-2.06-.94-.94-2.06-.94 2.06-2.06.94zm-11 1L8.5 8.5l.94-2.06 2.06-.94-2.06-.94L8.5 2.5l-.94 2.06-2.06.94zm10 10l.94 2.06.94-2.06 2.06-.94-2.06-.94-.94-2.06-.94 2.06-2.06.94z\"/><path d=\"M17.41 7.96l-1.37-1.37c-.4-.4-.92-.59-1.43-.59-.52 0-1.04.2-1.43.59L10.3 9.45l-7.72 7.72c-.78.78-.78 2.05 0 2.83L4 21.41c.39.39.9.59 1.41.59.51 0 1.02-.2 1.41-.59l7.78-7.78 2.81-2.81c.8-.78.8-2.07 0-2.86zM5.41 20L4 18.59l7.72-7.72 1.47 1.35L5.41 20z\"/>\n",
              "  </svg>\n",
              "      </button>\n",
              "      \n",
              "  <style>\n",
              "    .colab-df-container {\n",
              "      display:flex;\n",
              "      flex-wrap:wrap;\n",
              "      gap: 12px;\n",
              "    }\n",
              "\n",
              "    .colab-df-convert {\n",
              "      background-color: #E8F0FE;\n",
              "      border: none;\n",
              "      border-radius: 50%;\n",
              "      cursor: pointer;\n",
              "      display: none;\n",
              "      fill: #1967D2;\n",
              "      height: 32px;\n",
              "      padding: 0 0 0 0;\n",
              "      width: 32px;\n",
              "    }\n",
              "\n",
              "    .colab-df-convert:hover {\n",
              "      background-color: #E2EBFA;\n",
              "      box-shadow: 0px 1px 2px rgba(60, 64, 67, 0.3), 0px 1px 3px 1px rgba(60, 64, 67, 0.15);\n",
              "      fill: #174EA6;\n",
              "    }\n",
              "\n",
              "    [theme=dark] .colab-df-convert {\n",
              "      background-color: #3B4455;\n",
              "      fill: #D2E3FC;\n",
              "    }\n",
              "\n",
              "    [theme=dark] .colab-df-convert:hover {\n",
              "      background-color: #434B5C;\n",
              "      box-shadow: 0px 1px 3px 1px rgba(0, 0, 0, 0.15);\n",
              "      filter: drop-shadow(0px 1px 2px rgba(0, 0, 0, 0.3));\n",
              "      fill: #FFFFFF;\n",
              "    }\n",
              "  </style>\n",
              "\n",
              "      <script>\n",
              "        const buttonEl =\n",
              "          document.querySelector('#df-5ff61bcf-63fa-4aa4-bce9-e58c6e8b254f button.colab-df-convert');\n",
              "        buttonEl.style.display =\n",
              "          google.colab.kernel.accessAllowed ? 'block' : 'none';\n",
              "\n",
              "        async function convertToInteractive(key) {\n",
              "          const element = document.querySelector('#df-5ff61bcf-63fa-4aa4-bce9-e58c6e8b254f');\n",
              "          const dataTable =\n",
              "            await google.colab.kernel.invokeFunction('convertToInteractive',\n",
              "                                                     [key], {});\n",
              "          if (!dataTable) return;\n",
              "\n",
              "          const docLinkHtml = 'Like what you see? Visit the ' +\n",
              "            '<a target=\"_blank\" href=https://colab.research.google.com/notebooks/data_table.ipynb>data table notebook</a>'\n",
              "            + ' to learn more about interactive tables.';\n",
              "          element.innerHTML = '';\n",
              "          dataTable['output_type'] = 'display_data';\n",
              "          await google.colab.output.renderOutput(dataTable, element);\n",
              "          const docLink = document.createElement('div');\n",
              "          docLink.innerHTML = docLinkHtml;\n",
              "          element.appendChild(docLink);\n",
              "        }\n",
              "      </script>\n",
              "    </div>\n",
              "  </div>\n",
              "  "
            ]
          },
          "metadata": {},
          "execution_count": 42
        }
      ]
    },
    {
      "cell_type": "code",
      "source": [
        "len(df)"
      ],
      "metadata": {
        "colab": {
          "base_uri": "https://localhost:8080/"
        },
        "id": "4U7tuG_UluYJ",
        "outputId": "cbfda1e0-17a7-4917-da4f-e017c6927c24"
      },
      "execution_count": null,
      "outputs": [
        {
          "output_type": "execute_result",
          "data": {
            "text/plain": [
              "48318"
            ]
          },
          "metadata": {},
          "execution_count": 6
        }
      ]
    },
    {
      "cell_type": "code",
      "source": [
        "df.dtypes"
      ],
      "metadata": {
        "colab": {
          "base_uri": "https://localhost:8080/"
        },
        "id": "cncy7NF5lv6o",
        "outputId": "ad34a2f4-5af6-460e-898c-4408184e06a2"
      },
      "execution_count": null,
      "outputs": [
        {
          "output_type": "execute_result",
          "data": {
            "text/plain": [
              "app_id          int64\n",
              "description    object\n",
              "tags           object\n",
              "dtype: object"
            ]
          },
          "metadata": {},
          "execution_count": 7
        }
      ]
    },
    {
      "cell_type": "code",
      "source": [
        "df = df[df['description'] != ''].copy()"
      ],
      "metadata": {
        "id": "FwA_nltelxQa"
      },
      "execution_count": null,
      "outputs": []
    },
    {
      "cell_type": "code",
      "source": [
        "len(df)"
      ],
      "metadata": {
        "colab": {
          "base_uri": "https://localhost:8080/"
        },
        "id": "nmecY8UZly0Q",
        "outputId": "5ba3bcb9-307a-4369-a246-4d0ab9a778a7"
      },
      "execution_count": null,
      "outputs": [
        {
          "output_type": "execute_result",
          "data": {
            "text/plain": [
              "39346"
            ]
          },
          "metadata": {},
          "execution_count": 9
        }
      ]
    },
    {
      "cell_type": "markdown",
      "source": [
        "Создаем целевую переменную - попробуем предсказать тег action"
      ],
      "metadata": {
        "id": "XawXrsfz8SWc"
      }
    },
    {
      "cell_type": "code",
      "source": [
        "def action_in_tag_list(row):\n",
        "    return 'Action' in list(row['tags'])"
      ],
      "metadata": {
        "id": "XnCf8JmBl0vC"
      },
      "execution_count": null,
      "outputs": []
    },
    {
      "cell_type": "code",
      "source": [
        "df['action'] = df.apply(action_in_tag_list,axis=1)"
      ],
      "metadata": {
        "id": "XcsmsrUnl2Ww"
      },
      "execution_count": null,
      "outputs": []
    },
    {
      "cell_type": "code",
      "source": [
        "df['action'].value_counts()"
      ],
      "metadata": {
        "colab": {
          "base_uri": "https://localhost:8080/"
        },
        "id": "s4iLVzuTl44Q",
        "outputId": "08f318ee-08d5-4e5b-b4de-a7c1c90c55ff"
      },
      "execution_count": null,
      "outputs": [
        {
          "output_type": "execute_result",
          "data": {
            "text/plain": [
              "False    22060\n",
              "True     17286\n",
              "Name: action, dtype: int64"
            ]
          },
          "metadata": {},
          "execution_count": 50
        }
      ]
    },
    {
      "cell_type": "markdown",
      "source": [
        "Разделяем train, val, test"
      ],
      "metadata": {
        "id": "6yqphZNL8WFQ"
      }
    },
    {
      "cell_type": "code",
      "source": [
        "from sklearn.model_selection import train_test_split\n",
        "train, test = train_test_split(df,train_size=0.6,random_state=42,stratify=df['action'])\n",
        "val, test = train_test_split(test,train_size=0.5,random_state=42,stratify=test['action'])"
      ],
      "metadata": {
        "id": "IGDm6FNql6tj"
      },
      "execution_count": null,
      "outputs": []
    },
    {
      "cell_type": "code",
      "source": [
        "train_full = pd.concat([train,val])"
      ],
      "metadata": {
        "id": "IVHhIOiyl8n5"
      },
      "execution_count": null,
      "outputs": []
    },
    {
      "cell_type": "code",
      "source": [
        "! pip install catboost"
      ],
      "metadata": {
        "colab": {
          "base_uri": "https://localhost:8080/"
        },
        "id": "CRqlz2HWl-75",
        "outputId": "609f8180-2690-4e33-b32d-2496d64ecc50"
      },
      "execution_count": null,
      "outputs": [
        {
          "output_type": "stream",
          "name": "stdout",
          "text": [
            "Looking in indexes: https://pypi.org/simple, https://us-python.pkg.dev/colab-wheels/public/simple/\n",
            "Collecting catboost\n",
            "  Downloading catboost-1.2-cp310-cp310-manylinux2014_x86_64.whl (98.6 MB)\n",
            "\u001b[2K     \u001b[90m━━━━━━━━━━━━━━━━━━━━━━━━━━━━━━━━━━━━━━━━\u001b[0m \u001b[32m98.6/98.6 MB\u001b[0m \u001b[31m10.7 MB/s\u001b[0m eta \u001b[36m0:00:00\u001b[0m\n",
            "\u001b[?25hRequirement already satisfied: graphviz in /usr/local/lib/python3.10/dist-packages (from catboost) (0.20.1)\n",
            "Requirement already satisfied: matplotlib in /usr/local/lib/python3.10/dist-packages (from catboost) (3.7.1)\n",
            "Requirement already satisfied: numpy>=1.16.0 in /usr/local/lib/python3.10/dist-packages (from catboost) (1.22.4)\n",
            "Requirement already satisfied: pandas>=0.24 in /usr/local/lib/python3.10/dist-packages (from catboost) (1.5.3)\n",
            "Requirement already satisfied: scipy in /usr/local/lib/python3.10/dist-packages (from catboost) (1.10.1)\n",
            "Requirement already satisfied: plotly in /usr/local/lib/python3.10/dist-packages (from catboost) (5.13.1)\n",
            "Requirement already satisfied: six in /usr/local/lib/python3.10/dist-packages (from catboost) (1.16.0)\n",
            "Requirement already satisfied: python-dateutil>=2.8.1 in /usr/local/lib/python3.10/dist-packages (from pandas>=0.24->catboost) (2.8.2)\n",
            "Requirement already satisfied: pytz>=2020.1 in /usr/local/lib/python3.10/dist-packages (from pandas>=0.24->catboost) (2022.7.1)\n",
            "Requirement already satisfied: contourpy>=1.0.1 in /usr/local/lib/python3.10/dist-packages (from matplotlib->catboost) (1.1.0)\n",
            "Requirement already satisfied: cycler>=0.10 in /usr/local/lib/python3.10/dist-packages (from matplotlib->catboost) (0.11.0)\n",
            "Requirement already satisfied: fonttools>=4.22.0 in /usr/local/lib/python3.10/dist-packages (from matplotlib->catboost) (4.40.0)\n",
            "Requirement already satisfied: kiwisolver>=1.0.1 in /usr/local/lib/python3.10/dist-packages (from matplotlib->catboost) (1.4.4)\n",
            "Requirement already satisfied: packaging>=20.0 in /usr/local/lib/python3.10/dist-packages (from matplotlib->catboost) (23.1)\n",
            "Requirement already satisfied: pillow>=6.2.0 in /usr/local/lib/python3.10/dist-packages (from matplotlib->catboost) (8.4.0)\n",
            "Requirement already satisfied: pyparsing>=2.3.1 in /usr/local/lib/python3.10/dist-packages (from matplotlib->catboost) (3.1.0)\n",
            "Requirement already satisfied: tenacity>=6.2.0 in /usr/local/lib/python3.10/dist-packages (from plotly->catboost) (8.2.2)\n",
            "Installing collected packages: catboost\n",
            "Successfully installed catboost-1.2\n"
          ]
        }
      ]
    },
    {
      "cell_type": "code",
      "source": [
        "from catboost import CatBoostClassifier"
      ],
      "metadata": {
        "id": "x_VQ02F8mBzy"
      },
      "execution_count": null,
      "outputs": []
    },
    {
      "cell_type": "markdown",
      "source": [
        "Катбуст умеет извлекать фичи из текста\n",
        "https://github.com/catboost/catboost/blob/master/catboost/tutorials/events/2020_06_04_catboost_tutorial/text_features.ipynb"
      ],
      "metadata": {
        "id": "2UeyETt39GUl"
      }
    },
    {
      "cell_type": "code",
      "source": [
        "text_features = ['description']\n",
        "X = ['description']\n",
        "y = ['action']"
      ],
      "metadata": {
        "id": "DEGG42uVmDMC"
      },
      "execution_count": null,
      "outputs": []
    },
    {
      "cell_type": "markdown",
      "source": [
        "Создаем пулы"
      ],
      "metadata": {
        "id": "foNj2NaO9Mm_"
      }
    },
    {
      "cell_type": "code",
      "source": [
        "from catboost import Pool\n",
        "\n",
        "train_data = Pool(data=train[X],\n",
        "                  label=train[y],\n",
        "                  text_features=text_features\n",
        "                 )\n",
        "\n",
        "valid_data = Pool(data=val[X],\n",
        "                  label=val[y],\n",
        "                  text_features=text_features\n",
        "                 )\n",
        "\n",
        "test_data = Pool(data=test[X],\n",
        "                  label=test[y],\n",
        "                  text_features=text_features\n",
        "                 )\n",
        "\n",
        "train_full_data = Pool(data=train_full[X],\n",
        "                       label=train_full[y],\n",
        "                       text_features=text_features\n",
        "                       )"
      ],
      "metadata": {
        "id": "V1qXojN2mE3K"
      },
      "execution_count": null,
      "outputs": []
    },
    {
      "cell_type": "markdown",
      "source": [
        "Параметры модели"
      ],
      "metadata": {
        "id": "bI7APWrc8eGN"
      }
    },
    {
      "cell_type": "code",
      "source": [
        "params = {'verbose':100,\n",
        "          'eval_metric':'F1',\n",
        "          'loss_function': 'Logloss',\n",
        "          'random_seed':42,\n",
        "          'learning_rate':0.01}"
      ],
      "metadata": {
        "id": "KaU7_agFmGjq"
      },
      "execution_count": null,
      "outputs": []
    },
    {
      "cell_type": "code",
      "source": [
        "#from catboost import cv"
      ],
      "metadata": {
        "id": "xN8XhXW8qLr6"
      },
      "execution_count": null,
      "outputs": []
    },
    {
      "cell_type": "code",
      "source": [
        "#cv_data = cv(\n",
        "#    params = params,\n",
        "#    pool = train_full_data,\n",
        "#   fold_count=5,\n",
        "#    shuffle=True,\n",
        "#    partition_random_seed=0,\n",
        "#    stratified=False,\n",
        "#    verbose=False\n",
        "#)"
      ],
      "metadata": {
        "id": "xDFcInNap2h4"
      },
      "execution_count": null,
      "outputs": []
    },
    {
      "cell_type": "markdown",
      "source": [
        "Модель"
      ],
      "metadata": {
        "id": "hGvFC8DC8ice"
      }
    },
    {
      "cell_type": "code",
      "source": [
        "model = CatBoostClassifier(**params)"
      ],
      "metadata": {
        "id": "BLLWzrj-mMQk"
      },
      "execution_count": null,
      "outputs": []
    },
    {
      "cell_type": "markdown",
      "source": [
        "Обучение"
      ],
      "metadata": {
        "id": "mZWC0DQX8jvO"
      }
    },
    {
      "cell_type": "code",
      "source": [
        "model.fit(train_data,eval_set=valid_data)"
      ],
      "metadata": {
        "colab": {
          "base_uri": "https://localhost:8080/"
        },
        "id": "kOS4wqY1mNeJ",
        "outputId": "ad01bca6-d834-43ce-c173-2f04e7cb27c1"
      },
      "execution_count": null,
      "outputs": [
        {
          "output_type": "stream",
          "name": "stdout",
          "text": [
            "0:\tlearn: 0.6813187\ttest: 0.7065403\tbest: 0.7065403 (0)\ttotal: 246ms\tremaining: 4m 5s\n",
            "100:\tlearn: 0.6856258\ttest: 0.7109241\tbest: 0.7187879 (5)\ttotal: 20.5s\tremaining: 3m 2s\n",
            "200:\tlearn: 0.6882767\ttest: 0.7128775\tbest: 0.7187879 (5)\ttotal: 40.8s\tremaining: 2m 42s\n",
            "300:\tlearn: 0.6888692\ttest: 0.7147799\tbest: 0.7187879 (5)\ttotal: 1m 3s\tremaining: 2m 26s\n",
            "400:\tlearn: 0.6903992\ttest: 0.7145558\tbest: 0.7187879 (5)\ttotal: 1m 21s\tremaining: 2m 2s\n",
            "500:\tlearn: 0.6928329\ttest: 0.7161737\tbest: 0.7187879 (5)\ttotal: 1m 41s\tremaining: 1m 40s\n",
            "600:\tlearn: 0.6953849\ttest: 0.7180776\tbest: 0.7187879 (5)\ttotal: 2m 1s\tremaining: 1m 20s\n",
            "700:\tlearn: 0.6963133\ttest: 0.7185930\tbest: 0.7191329 (666)\ttotal: 2m 19s\tremaining: 59.6s\n",
            "800:\tlearn: 0.6975922\ttest: 0.7197112\tbest: 0.7197112 (795)\ttotal: 2m 39s\tremaining: 39.5s\n",
            "900:\tlearn: 0.6994388\ttest: 0.7204267\tbest: 0.7206275 (898)\ttotal: 2m 57s\tremaining: 19.5s\n",
            "999:\tlearn: 0.7019386\ttest: 0.7214196\tbest: 0.7215071 (988)\ttotal: 3m 17s\tremaining: 0us\n",
            "\n",
            "bestTest = 0.7215070644\n",
            "bestIteration = 988\n",
            "\n",
            "Shrink model to first 989 iterations.\n"
          ]
        },
        {
          "output_type": "execute_result",
          "data": {
            "text/plain": [
              "<catboost.core.CatBoostClassifier at 0x7fb5ac392ad0>"
            ]
          },
          "metadata": {},
          "execution_count": 21
        }
      ]
    },
    {
      "cell_type": "markdown",
      "source": [
        "На лучшей итерации обучаем модель на train+val"
      ],
      "metadata": {
        "id": "QvkMJ1ec8tpQ"
      }
    },
    {
      "cell_type": "code",
      "source": [
        "params = {'iterations': 989,\n",
        "          'verbose':100,\n",
        "          'eval_metric':'F1',\n",
        "          'loss_function': 'Logloss',\n",
        "          'random_seed':42,\n",
        "          'learning_rate':0.01}"
      ],
      "metadata": {
        "id": "nIL-9fbznYjc"
      },
      "execution_count": null,
      "outputs": []
    },
    {
      "cell_type": "code",
      "source": [
        "model.fit(train_full_data)"
      ],
      "metadata": {
        "colab": {
          "base_uri": "https://localhost:8080/"
        },
        "id": "y-bcJnsBnchi",
        "outputId": "7157da3b-bc3f-463e-de2f-7c950370cff7"
      },
      "execution_count": null,
      "outputs": [
        {
          "output_type": "stream",
          "name": "stdout",
          "text": [
            "0:\tlearn: 0.6913391\ttotal: 382ms\tremaining: 6m 21s\n",
            "100:\tlearn: 0.6966318\ttotal: 21.7s\tremaining: 3m 13s\n",
            "200:\tlearn: 0.6986957\ttotal: 45.6s\tremaining: 3m 1s\n",
            "300:\tlearn: 0.7007040\ttotal: 1m 6s\tremaining: 2m 34s\n",
            "400:\tlearn: 0.7018929\ttotal: 1m 26s\tremaining: 2m 9s\n",
            "500:\tlearn: 0.7043748\ttotal: 1m 47s\tremaining: 1m 46s\n",
            "600:\tlearn: 0.7057229\ttotal: 2m 6s\tremaining: 1m 24s\n",
            "700:\tlearn: 0.7069026\ttotal: 2m 27s\tremaining: 1m 2s\n",
            "800:\tlearn: 0.7078913\ttotal: 2m 47s\tremaining: 41.7s\n",
            "900:\tlearn: 0.7088490\ttotal: 3m 7s\tremaining: 20.6s\n",
            "999:\tlearn: 0.7102363\ttotal: 3m 27s\tremaining: 0us\n"
          ]
        },
        {
          "output_type": "execute_result",
          "data": {
            "text/plain": [
              "<catboost.core.CatBoostClassifier at 0x7fb5ac392ad0>"
            ]
          },
          "metadata": {},
          "execution_count": 23
        }
      ]
    },
    {
      "cell_type": "markdown",
      "source": [
        "Оченим качество на train+val"
      ],
      "metadata": {
        "id": "7uCbD0lM8z6_"
      }
    },
    {
      "cell_type": "code",
      "source": [
        "train_full['pred_action'] = model.predict_proba(train_full[X])[:,1]"
      ],
      "metadata": {
        "id": "7098VdXunfX6"
      },
      "execution_count": null,
      "outputs": []
    },
    {
      "cell_type": "code",
      "source": [
        "from sklearn.metrics import f1_score\n",
        "from sklearn.metrics import precision_score\n",
        "from sklearn.metrics import recall_score\n",
        "from sklearn.metrics import roc_curve"
      ],
      "metadata": {
        "id": "NXJdze14nj5y"
      },
      "execution_count": null,
      "outputs": []
    },
    {
      "cell_type": "code",
      "source": [
        "fprs, tprs, thrs = roc_curve(train_full['action'],train_full['pred_action'])"
      ],
      "metadata": {
        "id": "dy-ybeeynlYy"
      },
      "execution_count": null,
      "outputs": []
    },
    {
      "cell_type": "code",
      "source": [
        "roc = pd.DataFrame({'fpr':fprs,'tpr':tprs,'thr':thrs})"
      ],
      "metadata": {
        "id": "nyCaoR9xnmiq"
      },
      "execution_count": null,
      "outputs": []
    },
    {
      "cell_type": "markdown",
      "source": [
        "Roc Auc curve"
      ],
      "metadata": {
        "id": "Int7OGHo9TIv"
      }
    },
    {
      "cell_type": "code",
      "source": [
        "roc.set_index('fpr')['tpr'].plot()"
      ],
      "metadata": {
        "colab": {
          "base_uri": "https://localhost:8080/",
          "height": 466
        },
        "id": "zJqxo7kPnn6B",
        "outputId": "fbf47927-1361-4620-8592-cddcdcb19e3a"
      },
      "execution_count": null,
      "outputs": [
        {
          "output_type": "execute_result",
          "data": {
            "text/plain": [
              "<Axes: xlabel='fpr'>"
            ]
          },
          "metadata": {},
          "execution_count": 28
        },
        {
          "output_type": "display_data",
          "data": {
            "text/plain": [
              "<Figure size 640x480 with 1 Axes>"
            ],
            "image/png": "[encoded data removed]"
          },
          "metadata": {}
        }
      ]
    },
    {
      "cell_type": "markdown",
      "source": [
        "Оценим на test"
      ],
      "metadata": {
        "id": "vV-hMCYP9WTG"
      }
    },
    {
      "cell_type": "code",
      "source": [
        "test['pred_action'] = model.predict_proba(test[X])[:,1]"
      ],
      "metadata": {
        "id": "UySraUXnoi_B"
      },
      "execution_count": null,
      "outputs": []
    },
    {
      "cell_type": "code",
      "source": [
        "fprs, tprs, thrs = roc_curve(test['action'],test['pred_action'])"
      ],
      "metadata": {
        "id": "mwQCtfmGonVs"
      },
      "execution_count": null,
      "outputs": []
    },
    {
      "cell_type": "code",
      "source": [
        "roc = pd.DataFrame({'fpr':fprs,'tpr':tprs,'thr':thrs})"
      ],
      "metadata": {
        "id": "8D4AkmJaoqro"
      },
      "execution_count": null,
      "outputs": []
    },
    {
      "cell_type": "markdown",
      "source": [
        "Roc Auc curve"
      ],
      "metadata": {
        "id": "XZCmaQ0-9bWu"
      }
    },
    {
      "cell_type": "code",
      "source": [
        "roc.set_index('fpr')['tpr'].plot()"
      ],
      "metadata": {
        "colab": {
          "base_uri": "https://localhost:8080/",
          "height": 466
        },
        "id": "O1r_CwL6oshq",
        "outputId": "001373d5-7a0c-4485-8394-3052b3e81ae4"
      },
      "execution_count": null,
      "outputs": [
        {
          "output_type": "execute_result",
          "data": {
            "text/plain": [
              "<Axes: xlabel='fpr'>"
            ]
          },
          "metadata": {},
          "execution_count": 32
        },
        {
          "output_type": "display_data",
          "data": {
            "text/plain": [
              "<Figure size 640x480 with 1 Axes>"
            ],
            "image/png": "[encoded data removed]"
          },
          "metadata": {}
        }
      ]
    },
    {
      "cell_type": "markdown",
      "source": [
        "Выберем оптимальный порог"
      ],
      "metadata": {
        "id": "5xboTLlR9e__"
      }
    },
    {
      "cell_type": "code",
      "source": [
        "thrs = [0] + list(test['pred_action'].unique())"
      ],
      "metadata": {
        "id": "BzN_RYVJoxHg"
      },
      "execution_count": null,
      "outputs": []
    },
    {
      "cell_type": "code",
      "source": [
        "from tqdm.notebook import tqdm"
      ],
      "metadata": {
        "id": "2bVYDiWFo3Gp"
      },
      "execution_count": null,
      "outputs": []
    },
    {
      "cell_type": "code",
      "source": [
        "result = []\n",
        "for thr in tqdm(thrs):\n",
        "\ttest['pred_action_val'] = (test['pred_action'] > thr) * 1\n",
        "\tresult.append((thr,\n",
        "\t\t             f1_score(test['action'],test['pred_action_val'])))"
      ],
      "metadata": {
        "colab": {
          "base_uri": "https://localhost:8080/",
          "height": 49,
          "referenced_widgets": [
            "e25261cf58e4475589306515fe684960",
            "afd317b83e484dc7a895abcea78309f7",
            "0c58ce1b26394d09b13b4ceae50f740a",
            "ff76a41ab141403ebc45385824edc2b5",
            "6c5250369b7c40f69e21303ef1408f34",
            "2ea03447cead4cf8b19aabd47b97d235",
            "b15d0f025b3445c28402b0651f28be6b",
            "3bcb68ee247f4590b7b7777361afb5ad",
            "7e6ee6ac22ef492487d7fb7b89e87316",
            "9d0618e52a4f41e4bd3e269ccfa5187d",
            "a3a1d33fa04b4bfeb72d0fd91c7cc503"
          ]
        },
        "id": "P335UTsro7ZJ",
        "outputId": "2ba34d7c-73d6-43ea-ab61-07d4cef91f37"
      },
      "execution_count": null,
      "outputs": [
        {
          "output_type": "display_data",
          "data": {
            "text/plain": [
              "  0%|          | 0/7704 [00:00<?, ?it/s]"
            ],
            "application/vnd.jupyter.widget-view+json": {
              "version_major": 2,
              "version_minor": 0,
              "model_id": "e25261cf58e4475589306515fe684960"
            }
          },
          "metadata": {}
        }
      ]
    },
    {
      "cell_type": "code",
      "source": [
        "t = pd.DataFrame(result,columns=['thr','f1'])"
      ],
      "metadata": {
        "id": "u_DYZ2Qyo_aC"
      },
      "execution_count": null,
      "outputs": []
    },
    {
      "cell_type": "code",
      "source": [
        "t[t['f1'] == t['f1'].max()]"
      ],
      "metadata": {
        "colab": {
          "base_uri": "https://localhost:8080/",
          "height": 80
        },
        "id": "iSiNTbIKpBYI",
        "outputId": "7eb8c61e-1eb9-4298-9d24-8a5d49551ade"
      },
      "execution_count": null,
      "outputs": [
        {
          "output_type": "execute_result",
          "data": {
            "text/plain": [
              "           thr        f1\n",
              "1377  0.338837  0.751594"
            ],
            "text/html": [
              "\n",
              "  <div id=\"df-3927997d-0650-4ed2-91ad-c0e6044f76c2\">\n",
              "    <div class=\"colab-df-container\">\n",
              "      <div>\n",
              "<style scoped>\n",
              "    .dataframe tbody tr th:only-of-type {\n",
              "        vertical-align: middle;\n",
              "    }\n",
              "\n",
              "    .dataframe tbody tr th {\n",
              "        vertical-align: top;\n",
              "    }\n",
              "\n",
              "    .dataframe thead th {\n",
              "        text-align: right;\n",
              "    }\n",
              "</style>\n",
              "<table border=\"1\" class=\"dataframe\">\n",
              "  <thead>\n",
              "    <tr style=\"text-align: right;\">\n",
              "      <th></th>\n",
              "      <th>thr</th>\n",
              "      <th>f1</th>\n",
              "    </tr>\n",
              "  </thead>\n",
              "  <tbody>\n",
              "    <tr>\n",
              "      <th>1377</th>\n",
              "      <td>0.338837</td>\n",
              "      <td>0.751594</td>\n",
              "    </tr>\n",
              "  </tbody>\n",
              "</table>\n",
              "</div>\n",
              "      <button class=\"colab-df-convert\" onclick=\"convertToInteractive('df-3927997d-0650-4ed2-91ad-c0e6044f76c2')\"\n",
              "              title=\"Convert this dataframe to an interactive table.\"\n",
              "              style=\"display:none;\">\n",
              "        \n",
              "  <svg xmlns=\"http://www.w3.org/2000/svg\" height=\"24px\"viewBox=\"0 0 24 24\"\n",
              "       width=\"24px\">\n",
              "    <path d=\"M0 0h24v24H0V0z\" fill=\"none\"/>\n",
              "    <path d=\"M18.56 5.44l.94 2.06.94-2.06 2.06-.94-2.06-.94-.94-2.06-.94 2.06-2.06.94zm-11 1L8.5 8.5l.94-2.06 2.06-.94-2.06-.94L8.5 2.5l-.94 2.06-2.06.94zm10 10l.94 2.06.94-2.06 2.06-.94-2.06-.94-.94-2.06-.94 2.06-2.06.94z\"/><path d=\"M17.41 7.96l-1.37-1.37c-.4-.4-.92-.59-1.43-.59-.52 0-1.04.2-1.43.59L10.3 9.45l-7.72 7.72c-.78.78-.78 2.05 0 2.83L4 21.41c.39.39.9.59 1.41.59.51 0 1.02-.2 1.41-.59l7.78-7.78 2.81-2.81c.8-.78.8-2.07 0-2.86zM5.41 20L4 18.59l7.72-7.72 1.47 1.35L5.41 20z\"/>\n",
              "  </svg>\n",
              "      </button>\n",
              "      \n",
              "  <style>\n",
              "    .colab-df-container {\n",
              "      display:flex;\n",
              "      flex-wrap:wrap;\n",
              "      gap: 12px;\n",
              "    }\n",
              "\n",
              "    .colab-df-convert {\n",
              "      background-color: #E8F0FE;\n",
              "      border: none;\n",
              "      border-radius: 50%;\n",
              "      cursor: pointer;\n",
              "      display: none;\n",
              "      fill: #1967D2;\n",
              "      height: 32px;\n",
              "      padding: 0 0 0 0;\n",
              "      width: 32px;\n",
              "    }\n",
              "\n",
              "    .colab-df-convert:hover {\n",
              "      background-color: #E2EBFA;\n",
              "      box-shadow: 0px 1px 2px rgba(60, 64, 67, 0.3), 0px 1px 3px 1px rgba(60, 64, 67, 0.15);\n",
              "      fill: #174EA6;\n",
              "    }\n",
              "\n",
              "    [theme=dark] .colab-df-convert {\n",
              "      background-color: #3B4455;\n",
              "      fill: #D2E3FC;\n",
              "    }\n",
              "\n",
              "    [theme=dark] .colab-df-convert:hover {\n",
              "      background-color: #434B5C;\n",
              "      box-shadow: 0px 1px 3px 1px rgba(0, 0, 0, 0.15);\n",
              "      filter: drop-shadow(0px 1px 2px rgba(0, 0, 0, 0.3));\n",
              "      fill: #FFFFFF;\n",
              "    }\n",
              "  </style>\n",
              "\n",
              "      <script>\n",
              "        const buttonEl =\n",
              "          document.querySelector('#df-3927997d-0650-4ed2-91ad-c0e6044f76c2 button.colab-df-convert');\n",
              "        buttonEl.style.display =\n",
              "          google.colab.kernel.accessAllowed ? 'block' : 'none';\n",
              "\n",
              "        async function convertToInteractive(key) {\n",
              "          const element = document.querySelector('#df-3927997d-0650-4ed2-91ad-c0e6044f76c2');\n",
              "          const dataTable =\n",
              "            await google.colab.kernel.invokeFunction('convertToInteractive',\n",
              "                                                     [key], {});\n",
              "          if (!dataTable) return;\n",
              "\n",
              "          const docLinkHtml = 'Like what you see? Visit the ' +\n",
              "            '<a target=\"_blank\" href=https://colab.research.google.com/notebooks/data_table.ipynb>data table notebook</a>'\n",
              "            + ' to learn more about interactive tables.';\n",
              "          element.innerHTML = '';\n",
              "          dataTable['output_type'] = 'display_data';\n",
              "          await google.colab.output.renderOutput(dataTable, element);\n",
              "          const docLink = document.createElement('div');\n",
              "          docLink.innerHTML = docLinkHtml;\n",
              "          element.appendChild(docLink);\n",
              "        }\n",
              "      </script>\n",
              "    </div>\n",
              "  </div>\n",
              "  "
            ]
          },
          "metadata": {},
          "execution_count": 37
        }
      ]
    },
    {
      "cell_type": "code",
      "source": [
        "test['pred_action_res'] = (test['pred_action'] > 0.338837) * 1"
      ],
      "metadata": {
        "id": "qQ_Zc1JIpMfJ"
      },
      "execution_count": null,
      "outputs": []
    },
    {
      "cell_type": "code",
      "source": [
        "from sklearn.metrics import classification_report"
      ],
      "metadata": {
        "id": "i-HL0EUBpP5B"
      },
      "execution_count": null,
      "outputs": []
    },
    {
      "cell_type": "markdown",
      "source": [
        "Итоговые метрики на test"
      ],
      "metadata": {
        "id": "3c4X7k6C9jsG"
      }
    },
    {
      "cell_type": "code",
      "source": [
        "print(classification_report(test['action'],test['pred_action_res']))"
      ],
      "metadata": {
        "colab": {
          "base_uri": "https://localhost:8080/"
        },
        "id": "vsreLK9CpRjH",
        "outputId": "4caff00b-4ed3-49ba-9c4f-07bdf3f5e8fb"
      },
      "execution_count": null,
      "outputs": [
        {
          "output_type": "stream",
          "name": "stdout",
          "text": [
            "              precision    recall  f1-score   support\n",
            "\n",
            "       False       0.83      0.72      0.77      4412\n",
            "        True       0.70      0.82      0.75      3458\n",
            "\n",
            "    accuracy                           0.76      7870\n",
            "   macro avg       0.76      0.77      0.76      7870\n",
            "weighted avg       0.77      0.76      0.76      7870\n",
            "\n"
          ]
        }
      ]
    }
  ]
}